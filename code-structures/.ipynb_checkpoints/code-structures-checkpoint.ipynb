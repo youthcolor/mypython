{
 "cells": [
  {
   "cell_type": "markdown",
   "metadata": {},
   "source": [
    "# 注释与连接\n",
    "- 使用 # 可以注释单行\n",
    "- 使用 \\ 可以连接多行"
   ]
  },
  {
   "cell_type": "code",
   "execution_count": 1,
   "metadata": {},
   "outputs": [
    {
     "name": "stdout",
     "output_type": "stream",
     "text": [
      "两种不同的连接多行方法:\n",
      "abcdefghijklmnopqrstuvwxyz\n",
      "abcdefghijklmnopqrstuvwxyz\n",
      "运算式也可以切断\n",
      "6\n"
     ]
    }
   ],
   "source": [
    "# 我是注释，別理我\n",
    " \n",
    "print('两种不同的连接多行方法:')\n",
    " \n",
    "alphabet = ''\n",
    "alphabet += 'abcdefg'\n",
    "alphabet += 'hijklmnop'\n",
    "alphabet += 'qrstuv'\n",
    "alphabet += 'wxyz'\n",
    "print(alphabet)\n",
    " \n",
    " \n",
    "alphabet = 'abcdefg' + \\\n",
    "    'hijklmnop' + \\\n",
    "    'qrstuv' + \\\n",
    "    'wxyz'\n",
    "print(alphabet)\n",
    " \n",
    "print('运算式也可以切断')\n",
    "a = 1 + 2 + \\\n",
    "    3\n",
    "print(a)"
   ]
  },
  {
   "cell_type": "markdown",
   "metadata": {},
   "source": [
    "# 使用if、elif与else进行逻辑判断\n",
    "- 注意!!!记得使用冒号(：)做结尾!!!\n",
    "- 使用4个空格作为区域划分"
   ]
  },
  {
   "cell_type": "code",
   "execution_count": 2,
   "metadata": {},
   "outputs": [
    {
     "name": "stdout",
     "output_type": "stream",
     "text": [
      "woe!\n"
     ]
    }
   ],
   "source": [
    "disaster = True\n",
    "if disaster:\n",
    "    print(\"woe!\")\n",
    "else:\n",
    "    print(\"whee!\")"
   ]
  },
  {
   "cell_type": "code",
   "execution_count": 3,
   "metadata": {},
   "outputs": [
    {
     "name": "stdout",
     "output_type": "stream",
     "text": [
      "It's a skink!\n"
     ]
    }
   ],
   "source": [
    "# 槽状判断式结构\n",
    "furry = False\n",
    "small = True\n",
    "\n",
    "if furry:\n",
    "    if small:\n",
    "        print(\"It's a cat.\")\n",
    "    else:\n",
    "        print(\"It's a bear!\")\n",
    "else:\n",
    "    if small:\n",
    "        print(\"It's a skink!\")\n",
    "    else:\n",
    "        print(\"It's ahuman.Or a hairless bear.\")"
   ]
  },
  {
   "cell_type": "code",
   "execution_count": 4,
   "metadata": {},
   "outputs": [
    {
     "name": "stdout",
     "output_type": "stream",
     "text": [
      "I've never heard of the color puce\n"
     ]
    }
   ],
   "source": [
    "# 值的判断\n",
    "color = \"puce\"\n",
    "\n",
    "if color == \"red\":\n",
    "    print(\"It's a tomato.\")\n",
    "elif color == \"green\":\n",
    "    print(\"It's a green pepper.\")\n",
    "elif color == \"bee purple\":\n",
    "    print(\"I don't know what it is.\")\n",
    "else:\n",
    "    print(\"I've never heard of the color\", color)"
   ]
  },
  {
   "cell_type": "markdown",
   "metadata": {},
   "source": [
    "# 使用while进行循环\n",
    "- 一样记得冒号和空4格!!!\n",
    "- 使用break可以跳出循环\n",
    "- 使用continue可以跳过次循环的后续，进行下一次循环\n",
    "- 使用else可以判断沒有使用break时的情況"
   ]
  },
  {
   "cell_type": "code",
   "execution_count": 5,
   "metadata": {
    "scrolled": false
   },
   "outputs": [
    {
     "name": "stdout",
     "output_type": "stream",
     "text": [
      "Case 1：一般使用while时\n",
      "1, 2, 3, 4, 5, \n",
      "\n",
      "Case 2：使用break，遇到3跳出循环\n",
      "1, 2, \n",
      "\n",
      "Case 3：使用continue，跳过值是3时\n",
      "1, 2, 4, 5, \n",
      "\n",
      "Case 4：使用else，若没有使用break则执行段\n",
      "1, 2, 3, 4, 5, NO break!\n"
     ]
    }
   ],
   "source": [
    "print('Case 1：一般使用while时')\n",
    "count = 1\n",
    "while count <= 5:\n",
    "    print(count, end=', ')\n",
    "    count += 1\n",
    "\n",
    "print('\\n\\nCase 2：使用break，遇到3跳出循环')\n",
    "count = 1\n",
    "while count <= 5:\n",
    "    if count == 3:\n",
    "        break\n",
    "    print(count, end=', ')\n",
    "    count += 1\n",
    "\n",
    "print('\\n\\nCase 3：使用continue，跳过值是3时')\n",
    "count = 1\n",
    "while count <= 5:    \n",
    "    if count == 3:\n",
    "        count += 1\n",
    "        continue\n",
    "    print(count, end=', ')\n",
    "    count += 1\n",
    "\n",
    "print('\\n\\nCase 4：使用else，若没有使用break则执行段')\n",
    "count = 1\n",
    "while count <= 5:\n",
    "    if count == 6:\n",
    "        break\n",
    "    print(count, end=', ')\n",
    "    count += 1\n",
    "else:\n",
    "    print('NO break!')"
   ]
  },
  {
   "cell_type": "markdown",
   "metadata": {},
   "source": [
    "# 使用for迭代\n",
    "- 还是老话一句!!記得冒号和空4格!!!\n",
    "- python中频繁的使用迭代器，可以遍历整个容器结构，不须知道长度。就可以调出元素，符合python的精神!!\n",
    "- 一样也可以使用break, continue 与 else语法作为迭代的控制"
   ]
  },
  {
   "cell_type": "code",
   "execution_count": 6,
   "metadata": {},
   "outputs": [
    {
     "name": "stdout",
     "output_type": "stream",
     "text": [
      "方法一：使用while方法遍历每一个Object\n",
      "Flopsy\n",
      "Mopsy\n",
      "Cottontail\n",
      "Peter\n",
      "\n",
      "方法二：使用for方法遍历每一个Object\n",
      "Flopsy\n",
      "Mopsy\n",
      "Cottontail\n",
      "Peter\n",
      "\n",
      "列举出字符串的每一个字母\n",
      "c\n",
      "a\n",
      "t\n",
      "\n",
      "列举出Dictionaries中的每一个key值\n",
      "room\n",
      "weapon\n",
      "person\n",
      "\n",
      "列举出Dictionaries中的每一个value值\n",
      "ballroom\n",
      "lead pipe\n",
      "Col. Mustard\n",
      "\n",
      "列举出Dictionaries中的每一组Object，以Tuples输出\n",
      "('room', 'ballroom')\n",
      "('weapon', 'lead pipe')\n",
      "('person', 'Col. Mustard')\n",
      "\n",
      "更改上面写法，改为使用两个参数去接key和value\n",
      "key： room ,\tvalue： ballroom\n",
      "key： weapon ,\tvalue： lead pipe\n",
      "key： person ,\tvalue： Col. Mustard\n"
     ]
    }
   ],
   "source": [
    "print('方法一：使用while方法遍历每一个Object')\n",
    "rabbits = ['Flopsy', 'Mopsy', 'Cottontail', 'Peter']\n",
    "current = 0\n",
    "while current < len(rabbits):\n",
    "    print(rabbits[current])\n",
    "    current += 1\n",
    "\n",
    "print('\\n方法二：使用for方法遍历每一个Object')\n",
    "for i in rabbits:\n",
    "    print(i)\n",
    "\n",
    "print('\\n列举出字符串的每一个字母')\n",
    "word = 'cat'\n",
    "for letter in word:\n",
    "    print(letter)\n",
    "\n",
    "print('\\n列举出Dictionaries中的每一个key值')\n",
    "accusation = {'room': 'ballroom', 'weapon': 'lead pipe', 'person': 'Col. Mustard'}\n",
    "for card in accusation: # 或者是for card in accusation.keys():\n",
    "    print(card)\n",
    "\n",
    "print('\\n列举出Dictionaries中的每一个value值')\n",
    "for value in accusation.values():\n",
    "    print(value)\n",
    "\n",
    "print('\\n列举出Dictionaries中的每一组Object，以Tuples输出')\n",
    "for item in accusation.items():\n",
    "    print(item)\n",
    "\n",
    "print('\\n更改上面写法，改为使用两个参数去接key和value')\n",
    "for card, contents in accusation.items():\n",
    "    print('key：', card, ',\\tvalue：', contents)"
   ]
  },
  {
   "cell_type": "code",
   "execution_count": 7,
   "metadata": {},
   "outputs": [
    {
     "name": "stdout",
     "output_type": "stream",
     "text": [
      "a\n",
      "b\n",
      "d\n",
      "e\n",
      "f\n"
     ]
    }
   ],
   "source": [
    "abc = 'abcdefghi'\n",
    "\n",
    "for chart in abc:\n",
    "    if chart == 'c':\n",
    "        continue\n",
    "    if chart == 'g':\n",
    "        break\n",
    "    print(chart)\n",
    "else:\n",
    "    print('g is not in here')"
   ]
  },
  {
   "cell_type": "markdown",
   "metadata": {},
   "source": [
    "- 使用zip()可以对多组Object同时进行循环迭代!!!好用!!!\n",
    "- 下面示范原本的方法和zip()的用法差异，有点再与自动以最短__的Object做为参考，不会爆掉\n",
    "- __zip()完的Object为tuple"
   ]
  },
  {
   "cell_type": "code",
   "execution_count": 8,
   "metadata": {},
   "outputs": [
    {
     "name": "stdout",
     "output_type": "stream",
     "text": [
      "原方法：\n",
      "Monday : drink coffee - eat banana - enjoy tiramisu\n",
      "Tuesday : drink tea - eat orange - enjoy ice cream\n",
      "Wednesday : drink beer - eat peach - enjoy pie\n",
      "\n",
      "zip()用法：\n",
      "Monday : drink coffee - eat banana - enjoy tiramisu\n",
      "Tuesday : drink tea - eat orange - enjoy ice cream\n",
      "Wednesday : drink beer - eat peach - enjoy pie\n"
     ]
    }
   ],
   "source": [
    "days = ['Monday', 'Tuesday', 'Wednesday']\n",
    "fruits = ['banana', 'orange', 'peach']\n",
    "drinks = ['coffee', 'tea', 'beer']\n",
    "desserts = ['tiramisu', 'ice cream', 'pie', 'pudding']\n",
    "\n",
    "print('原方法：')\n",
    "for i in range(len(days)):\n",
    "    print(days[i], \": drink\", drinks[i], \"- eat\", fruits[i], \"- enjoy\", desserts[i])\n",
    "\n",
    "print('\\nzip()用法：')\n",
    "for day, fruit, drink, dessert in zip(days, fruits, drinks, desserts):\n",
    "    print(day, \": drink\", drink, \"- eat\", fruit, \"- enjoy\", dessert)"
   ]
  },
  {
   "cell_type": "code",
   "execution_count": 9,
   "metadata": {},
   "outputs": [
    {
     "name": "stdout",
     "output_type": "stream",
     "text": [
      "转换成list包tuple\n",
      "[('Monday', 'Lundi'), ('Tuesday', 'Mardi'), ('Wednesday', 'Mercredi')]\n",
      "转换成Dictionarie\n",
      "{'Monday': 'Lundi', 'Tuesday': 'Mardi', 'Wednesday': 'Mercredi'}\n"
     ]
    }
   ],
   "source": [
    "english = 'Monday', 'Tuesday', 'Wednesday'\n",
    "french = 'Lundi', 'Mardi', 'Mercredi'\n",
    "\n",
    "print('转换成list包tuple')\n",
    "print(list( zip(english, french) ))\n",
    "print('转换成Dictionarie')\n",
    "print(dict( zip(english, french) ))"
   ]
  },
  {
   "cell_type": "markdown",
   "metadata": {},
   "source": [
    "- 使用range()产生自然数序列\n",
    "- 使用上如同slices()：range( start, stop, step)，start默认为0"
   ]
  },
  {
   "cell_type": "code",
   "execution_count": 10,
   "metadata": {},
   "outputs": [
    {
     "name": "stdout",
     "output_type": "stream",
     "text": [
      "Case1：迭代0~2\n",
      "0\n",
      "1\n",
      "2\n",
      "\n",
      "Case2：迭代2~0\n",
      "2\n",
      "1\n",
      "0\n",
      "\n",
      "Case3：也可以直接转为list Object\n",
      "[0, 1, 2]\n",
      "[3, 2]\n"
     ]
    }
   ],
   "source": [
    "print('Case1：迭代0~2')\n",
    "for x in range(0,3):\n",
    "    print(x)\n",
    "\n",
    "print('\\nCase2：迭代2~0')\n",
    "for x in range(2, -1, -1):\n",
    "    print(x)\n",
    "\n",
    "print('\\nCase3：也可以直接转为list Object')\n",
    "print(list( range(3) ))\n",
    "print(list( range(3, 1, -1) ))"
   ]
  },
  {
   "cell_type": "markdown",
   "metadata": {},
   "source": [
    "# Comprehensions 推导式\n",
    "- 可以简单漂亮的写出python风格的语法\n",
    "- 这些方法很好用，代码会更加简洁漂亮!\n",
    "## list的推导式\n",
    "listObj = [expression for item in iterable if condition]\n",
    "- 简单來說\"for item in iterable\"为原来的for循环开头 \"if condition\"为判断式\n",
    "- \"expression\"为处理输出结果\n",
    "- \"[]\"为转换为list的部分"
   ]
  },
  {
   "cell_type": "code",
   "execution_count": 11,
   "metadata": {},
   "outputs": [
    {
     "name": "stdout",
     "output_type": "stream",
     "text": [
      "Case 1\n",
      "[1, 2, 3, 4, 5]\n",
      "\n",
      "Case 2\n",
      "[1, 2, 3, 4, 5]\n",
      "\n",
      "Case 3\n",
      "[1, 2, 3, 4, 5]\n",
      "\n",
      "Case 4\n",
      "[1, 2, 3, 4, 5]\n"
     ]
    }
   ],
   "source": [
    "# 目标创建一个list，包含1~5\n",
    "# 在学到第三章时你要创建一个list可能会使用以下方法\n",
    "print('Case 1')\n",
    "number_list = []\n",
    "number_list.append(1)\n",
    "number_list.append(2)\n",
    "number_list.append(3)\n",
    "number_list.append(4)\n",
    "number_list.append(5)\n",
    "print(number_list)\n",
    "\n",
    "# 再稍微前面的一点时你会学到用for循环处理\n",
    "print('\\nCase 2')\n",
    "number_list = []\n",
    "for number in range(1, 6):\n",
    "    number_list.append(number)\n",
    "print(number_list)\n",
    "\n",
    "# 或是把list用上\n",
    "print('\\nCase 3')\n",
    "print(list(range(1, 6)))\n",
    "\n",
    "# 但是，这边起提供一个更为漂亮的写法，而且灵活度高\n",
    "print('\\nCase 4')\n",
    "print([number for number in range(1,6)])"
   ]
  },
  {
   "cell_type": "code",
   "execution_count": 12,
   "metadata": {},
   "outputs": [
    {
     "name": "stdout",
     "output_type": "stream",
     "text": [
      "[1, 3, 5]\n",
      "[1, 3, 5]\n",
      "[1, 3, 5]\n"
     ]
    }
   ],
   "source": [
    "# 可以对expression部分进行运算处理\n",
    "print([number*2 - 3 for number in range(2,5)])\n",
    "\n",
    "# 可以放置if判断式\n",
    "print([number for number in range(1,6) if number % 2 == 1])\n",
    "\n",
    "# 上面那个改成正常循环的写法如下，你喜欢哪个呢?\n",
    "a_list = []\n",
    "for number in range(1,6):\n",
    "    if number % 2 == 1:\n",
    "        a_list.append(number)\n",
    "print(a_list)"
   ]
  },
  {
   "cell_type": "code",
   "execution_count": 13,
   "metadata": {
    "scrolled": true
   },
   "outputs": [
    {
     "name": "stdout",
     "output_type": "stream",
     "text": [
      "1 1\n",
      "1 2\n",
      "2 1\n",
      "2 2\n",
      "3 1\n",
      "3 2\n",
      "----\n",
      "1 1\n",
      "1 2\n",
      "2 1\n",
      "2 2\n",
      "3 1\n",
      "3 2\n"
     ]
    }
   ],
   "source": [
    "# 嵌套循环也可以使用隐含式办到\n",
    "# 嵌套的順序就按照出现的順序依序往內\n",
    "\n",
    "rows = range(1,4)\n",
    "cols = range(1,3)\n",
    "cells = []\n",
    "for row in rows:\n",
    "    for col in cols:\n",
    "        cells.append((row, col))\n",
    "for cell_r, cell_c in cells:\n",
    "    print(cell_r, cell_c)\n",
    "\n",
    "print('----')\n",
    "# 隐含式版本\n",
    "cells = [(r,c) for r in range(1, 4) for c in range(1, 3)]\n",
    "for cell_r, cell_c in cells:\n",
    "    print(cell_r, cell_c)"
   ]
  },
  {
   "cell_type": "markdown",
   "metadata": {},
   "source": [
    "## dictionary推导式"
   ]
  },
  {
   "cell_type": "raw",
   "metadata": {},
   "source": [
    "dictionaryObj = { key_expression : value_expression for expression in iterable if condition}"
   ]
  },
  {
   "cell_type": "raw",
   "metadata": {},
   "source": [
    "for expression in iterable为for循环部分\n",
    "key_expression为key值\n",
    "value_expression为value值\n",
    "if condition为判断式\n",
    "{} 表示为一个dictionary"
   ]
  },
  {
   "cell_type": "code",
   "execution_count": 16,
   "metadata": {},
   "outputs": [
    {
     "name": "stdout",
     "output_type": "stream",
     "text": [
      "{'t': 2, 'l': 1, 's': 1, 'r': 1}\n",
      "{'啦', '洗', '睡'}\n"
     ]
    }
   ],
   "source": [
    "# 计算一个单字里字母的出现的次数\n",
    "# 使用Set排除重复字母\n",
    "\n",
    "word = 'letters'\n",
    "letter_counts = {letter: word.count(letter) for letter in set(word) if letter.lower() not in 'aeiou'}\n",
    "print(letter_counts)\n",
    "\n",
    "oneway = \"洗洗睡啦\"\n",
    "print(set(oneway))"
   ]
  },
  {
   "cell_type": "markdown",
   "metadata": {},
   "source": [
    "## set推导式"
   ]
  },
  {
   "cell_type": "raw",
   "metadata": {},
   "source": [
    "set_Obj = {expression for expression in iterable if condition}"
   ]
  },
  {
   "cell_type": "markdown",
   "metadata": {},
   "source": [
    "如同list的使用方法"
   ]
  },
  {
   "cell_type": "code",
   "execution_count": 17,
   "metadata": {},
   "outputs": [
    {
     "name": "stdout",
     "output_type": "stream",
     "text": [
      "{1, 4}\n"
     ]
    }
   ],
   "source": [
    "print({number for number in range(1,6) if number % 3 == 1})"
   ]
  },
  {
   "cell_type": "markdown",
   "metadata": {},
   "source": [
    "## generator推导式\n",
    "\n",
    "- tuples没有推导式的用法，使用()包起來是generator推导式的用法\n",
    "- 简单来说就是可以产生像是range()的Object，亦表示可以直接对齐迭代\n",
    "- 记住!!!generator只能使用一次!!!"
   ]
  },
  {
   "cell_type": "code",
   "execution_count": 18,
   "metadata": {},
   "outputs": [
    {
     "name": "stdout",
     "output_type": "stream",
     "text": [
      "(1,)\n",
      "<generator object <genexpr> at 0x7f0678bbd200>\n",
      "1\n",
      "4\n",
      "7\n",
      "10\n",
      "13\n",
      "[]\n",
      "因为只能使用一次，所以上面这边找不到东西了\n",
      "[1, 4, 7, 10, 13]\n"
     ]
    }
   ],
   "source": [
    "number_thing = (number*3-2 for number in range(1, 6))\n",
    "print((1,))\n",
    "print(number_thing)\n",
    "for number in number_thing:\n",
    "    print(number)\n",
    "\n",
    "# 或者转为list使用\n",
    "number_list = list(number_thing)\n",
    "print(number_list)\n",
    "print('因为只能使用一次，所以上面这边找不到东西了')\n",
    "\n",
    "number_thing = (number*3-2 for number in range(1, 6))\n",
    "number_list = list(number_thing)\n",
    "print(number_list)"
   ]
  },
  {
   "cell_type": "markdown",
   "metadata": {},
   "source": [
    "# Function 函数\n",
    "\n",
    "目的，重复使用代码，将代码模块化，方便维护管理\n",
    "    - 定义函数\n",
    "    - 调用函數\n",
    "一样记得冒号和空四格!!\n",
    "\n",
    "不一定要return，但有return一定要有变量接住他，或是使用他。若此function沒有return则返回None"
   ]
  },
  {
   "cell_type": "raw",
   "metadata": {},
   "source": [
    "def function_name():\n",
    "    return some\n",
    "\n",
    "result = function_name()"
   ]
  },
  {
   "cell_type": "code",
   "execution_count": 19,
   "metadata": {},
   "outputs": [
    {
     "name": "stdout",
     "output_type": "stream",
     "text": [
      "quack\n",
      "True\n",
      "Splendid!\n",
      "HEY~ HEY~\n",
      "I've never heard of the color blue.\n",
      "quack\n",
      "None\n"
     ]
    }
   ],
   "source": [
    "# 定义function\n",
    "def make_a_sound():\n",
    "    print('quack')\n",
    "\n",
    "def agree():\n",
    "    return True\n",
    "\n",
    "# 使用function\n",
    "make_a_sound()\n",
    "\n",
    "# 赋值变量\n",
    "isagree = agree()\n",
    "print(isagree)\n",
    "\n",
    "# 或是直接使用返回值\n",
    "if agree():\n",
    "    print('Splendid!')\n",
    "else:\n",
    "    print('That was unexpected.')\n",
    "\n",
    "# return的类型不限\n",
    "def echo(anything):\n",
    "    return anything + ' ' + anything\n",
    "print(echo('HEY~'))\n",
    "\n",
    "def commentary(color):\n",
    "    if color == 'red':\n",
    "        return \"It's a tomato.\"\n",
    "    elif color == \"green\":\n",
    "        return \"It's a green pepper.\"\n",
    "    elif color == 'bee purple':\n",
    "        return \"I don't know what it is, but only bees can see it.\"\n",
    "    else:\n",
    "        return \"I've never heard of the color \" + color + \".\"\n",
    "print(commentary('blue'))\n",
    "\n",
    "\n",
    "# 若此function沒有return则返回None\n",
    "print(make_a_sound())"
   ]
  },
  {
   "cell_type": "markdown",
   "metadata": {},
   "source": [
    "位置参数与关键字参数\n",
    "\n",
    "要把参数传进function中有两种方法，位置参数与关键字参数，示例如下 (如果同时出现，则以位置参数优先)\n",
    "\n",
    "可以在定义函数时，设定默认值，若使用function时沒有填入改参数，則使用默认值，有的话则覆盖"
   ]
  },
  {
   "cell_type": "code",
   "execution_count": 20,
   "metadata": {},
   "outputs": [
    {
     "name": "stdout",
     "output_type": "stream",
     "text": [
      "{'wine': 'chardonnay', 'entree': 'chicken', 'dessert': 'cake'}\n",
      "{'wine': 'bordeaux', 'entree': 'beef', 'dessert': 'bagel'}\n",
      "{'wine': 'frontenac', 'entree': 'fish', 'dessert': 'flan'}\n"
     ]
    }
   ],
   "source": [
    "def menu(wine, entree, dessert):\n",
    "    return {'wine': wine, 'entree': entree, 'dessert': dessert}\n",
    "\n",
    "print(menu('chardonnay', 'chicken', 'cake'))\n",
    "print(menu(entree='beef', dessert='bagel', wine='bordeaux'))\n",
    "print(menu('frontenac', dessert='flan', entree='fish'))"
   ]
  },
  {
   "cell_type": "code",
   "execution_count": 1,
   "metadata": {},
   "outputs": [
    {
     "name": "stdout",
     "output_type": "stream",
     "text": [
      "{'wine': 'chardonnay', 'entree': 'chicken', 'dessert': 'pudding'}\n",
      "{'wine': 'dunkelfelder', 'entree': 'duck', 'dessert': 'doughnut'}\n"
     ]
    }
   ],
   "source": [
    "def menu(wine, entree, dessert='pudding'):\n",
    "    return {'wine': wine, 'entree': entree, 'dessert': dessert}\n",
    "\n",
    "print(menu('chardonnay', 'chicken'))\n",
    "print(menu('dunkelfelder', 'duck', 'doughnut'))"
   ]
  },
  {
   "cell_type": "code",
   "execution_count": 7,
   "metadata": {},
   "outputs": [
    {
     "name": "stdout",
     "output_type": "stream",
     "text": [
      "['a']\n",
      "['a', 'b']\n",
      "['a']\n",
      "['b']\n"
     ]
    }
   ],
   "source": [
    "# 特別注意!!!!若把空list当做默认值会发生意料之外的事情\n",
    "def buggy(arg, result=[]):\n",
    "    result.append(arg)\n",
    "    print(result)\n",
    "\n",
    "# 第一次使用时OK\n",
    "buggy('a')\n",
    "# 第二次使用时就会残存上次的结果\n",
    "buggy('b')\n",
    "\n",
    "# 可以使用以下方法修改function\n",
    "def works(arg):\n",
    "    result = []\n",
    "    result.append(arg)\n",
    "    return result\n",
    "\n",
    "def nonbuggy(arg, result=None):\n",
    "    if result is None:\n",
    "        result = []\n",
    "    result.append(arg)\n",
    "    print(result)\n",
    "\n",
    "works('a')\n",
    "works('b')\n",
    "\n",
    "nonbuggy('a')\n",
    "nonbuggy('b')"
   ]
  },
  {
   "cell_type": "markdown",
   "metadata": {},
   "source": [
    "## 使用 * 与 ** 收集位置参数与关键字参数\n",
    "\n",
    "- *收集而成的参数会以Tuples储存\n",
    "- **收集到的会以Dictionary储存"
   ]
  },
  {
   "cell_type": "code",
   "execution_count": 8,
   "metadata": {},
   "outputs": [
    {
     "name": "stdout",
     "output_type": "stream",
     "text": [
      "全部都给收集器\n",
      "Positional argument tuple: ()\n",
      "Positional argument tuple: (1, 2, 3)\n",
      "\n",
      "混合位置参数使用，剩下的都给收集器\n",
      "Need this one: cap\n",
      "Need this one too: gloves\n",
      "All the rest: ('scarf', 'monocle', 'mustache wax')\n"
     ]
    }
   ],
   "source": [
    "print('全部都给收集器')\n",
    "def print_args(*args):\n",
    "    print('Positional argument tuple:', args)\n",
    "\n",
    "print_args()\n",
    "print_args(1,2,3)\n",
    "\n",
    "print('\\n混合位置参数使用，剩下的都给收集器')\n",
    "def print_more(required1, required2, *args):\n",
    "    print('Need this one:', required1)\n",
    "    print('Need this one too:', required2)\n",
    "    print('All the rest:', args)\n",
    "\n",
    "print_more('cap', 'gloves', 'scarf', 'monocle', 'mustache wax')"
   ]
  },
  {
   "cell_type": "code",
   "execution_count": 9,
   "metadata": {},
   "outputs": [
    {
     "name": "stdout",
     "output_type": "stream",
     "text": [
      "Keyword arguments: {'wine': 'merlot', 'entree': 'mutton', 'dessert': 'macaroon'}\n"
     ]
    }
   ],
   "source": [
    "def print_kwargs(**kwargs):\n",
    "    print('Keyword arguments:', kwargs)\n",
    "\n",
    "print_kwargs(wine='merlot', entree='mutton', dessert='macaroon')"
   ]
  },
  {
   "cell_type": "markdown",
   "metadata": {},
   "source": [
    "## function 说明文字\n",
    "\n",
    "为了提高代码的可读性，可以对自行定义出的函数加上说明文字，他人在使用时就可以使用help叫出文字"
   ]
  },
  {
   "cell_type": "code",
   "execution_count": 12,
   "metadata": {},
   "outputs": [
    {
     "name": "stdout",
     "output_type": "stream",
     "text": [
      "Help on function echo in module __main__:\n",
      "\n",
      "echo(anything)\n",
      "    echo returns its input argument\n",
      "\n",
      "--------------------------------\n",
      "Help on function print_if_true in module __main__:\n",
      "\n",
      "print_if_true(thing, check)\n",
      "    Prints the first argument if a second argument is true.\n",
      "    The operation is:\n",
      "    1. Check whether the *second* argument is true.\n",
      "    2. If it is, print the *first* argument.\n",
      "\n",
      "\n",
      "仅叫出文字↓\n",
      "echo returns its input argument\n",
      "--------------------------------\n",
      "\n",
      "Prints the first argument if a second argument is true.\n",
      "The operation is:\n",
      "1. Check whether the *second* argument is true.\n",
      "2. If it is, print the *first* argument.\n",
      "    \n"
     ]
    }
   ],
   "source": [
    "def echo(anything):\n",
    "    'echo returns its input argument'\n",
    "    return anything\n",
    "\n",
    "def print_if_true(thing, check):\n",
    "    '''\n",
    "Prints the first argument if a second argument is true.\n",
    "The operation is:\n",
    "1. Check whether the *second* argument is true.\n",
    "2. If it is, print the *first* argument.\n",
    "    '''\n",
    "    if check:\n",
    "        print(thing)\n",
    "\n",
    "help(echo)\n",
    "print('--------------------------------')\n",
    "help(print_if_true)\n",
    "\n",
    "print('\\n仅叫出文字↓')\n",
    "print(echo.__doc__)\n",
    "print('--------------------------------')\n",
    "print(print_if_true.__doc__)"
   ]
  },
  {
   "cell_type": "markdown",
   "metadata": {},
   "source": [
    "## 一等公民：function\n",
    "\n",
    "在python的设计中，function是一级公民。\n",
    "换句话说python是Object导向的语言，所有的东西都是Object，连function也是。\n",
    "\n",
    "所以说function可以当成参数传入其他function，也可以将function当成结果回传。"
   ]
  },
  {
   "cell_type": "code",
   "execution_count": 13,
   "metadata": {},
   "outputs": [
    {
     "name": "stdout",
     "output_type": "stream",
     "text": [
      "5\n"
     ]
    },
    {
     "data": {
      "text/plain": [
       "8"
      ]
     },
     "execution_count": 13,
     "metadata": {},
     "output_type": "execute_result"
    }
   ],
   "source": [
    "def run_something(func, a, b):\n",
    "    print(func(a, b))\n",
    "\n",
    "def add(a, b):\n",
    "    return a + b\n",
    "\n",
    "run_something(add, 2, 3)\n",
    "\n",
    "test = add\n",
    "test(3,5)"
   ]
  },
  {
   "cell_type": "markdown",
   "metadata": {},
   "source": [
    "## 內部函数\n",
    "\n",
    "function內部可以再定义function"
   ]
  },
  {
   "cell_type": "code",
   "execution_count": 14,
   "metadata": {},
   "outputs": [
    {
     "name": "stdout",
     "output_type": "stream",
     "text": [
      "11\n"
     ]
    }
   ],
   "source": [
    "def outer(a, b):\n",
    "    def inner(c, d):\n",
    "        return c + d\n",
    "    return inner(a, b)\n",
    "\n",
    "print(outer(4, 7))"
   ]
  },
  {
   "cell_type": "markdown",
   "metadata": {},
   "source": [
    "## 闭包\n",
    "\n",
    "可以动态生成函數，可用来记录外部传入的变量"
   ]
  },
  {
   "cell_type": "code",
   "execution_count": 15,
   "metadata": {},
   "outputs": [
    {
     "name": "stdout",
     "output_type": "stream",
     "text": [
      "We are the knights who say: 'XDD'\n"
     ]
    }
   ],
   "source": [
    "def knights2(saying):\n",
    "    def inner2():\n",
    "        return \"We are the knights who say: '%s'\" % saying\n",
    "    return inner2\n",
    "\n",
    "a = knights2('XDD')\n",
    "print(a())"
   ]
  },
  {
   "cell_type": "markdown",
   "metadata": {},
   "source": [
    "## 匿名函数：lambda()\n",
    "\n",
    "当想要传入一个小function作为使用时，却又不想定义出來，可以使用匿名函數"
   ]
  },
  {
   "cell_type": "code",
   "execution_count": 16,
   "metadata": {},
   "outputs": [
    {
     "name": "stdout",
     "output_type": "stream",
     "text": [
      "Thud!\n",
      "Meow!\n",
      "Thud!\n",
      "Hiss!\n",
      "-----\n",
      "Thud!\n",
      "Meow!\n",
      "Thud!\n",
      "Hiss!\n"
     ]
    }
   ],
   "source": [
    "def edit_story(words, func):\n",
    "    for word in words:\n",
    "        print(func(word))\n",
    "\n",
    "stairs = ['thud', 'meow', 'thud', 'hiss']\n",
    "\n",
    "def enliven(word):\n",
    "    return word.capitalize() + '!'\n",
    "\n",
    "# 原做法\n",
    "edit_story(stairs, enliven)\n",
    "\n",
    "print('-----')\n",
    "\n",
    "# 匿名函数做法\n",
    "edit_story(stairs, lambda word: word.capitalize() + '!')"
   ]
  },
  {
   "cell_type": "markdown",
   "metadata": {},
   "source": [
    "# Generators 生成器\n",
    "\n",
    "生成器式用来创建一个序列Object，但是又可以不用事前将一整个序列存到内存中，会随着每一次执行而改变数值\n",
    "\n",
    "每次循环生成器时，它会记录上一次调用的位置，并返回下一个值。\n",
    "这一点和普通的函数是不一样的，一般函數都不记录前一次调用用，而且都会在函数的第一行开始执行。\n",
    "\n",
    "內建的range()就是一种生成器。"
   ]
  },
  {
   "cell_type": "code",
   "execution_count": 17,
   "metadata": {},
   "outputs": [
    {
     "name": "stdout",
     "output_type": "stream",
     "text": [
      "1\n",
      "2\n",
      "3\n",
      "4\n",
      "------\n",
      "<function my_range at 0x7f2bf45580d0>\n",
      "1\n",
      "2\n",
      "3\n",
      "4\n"
     ]
    }
   ],
   "source": [
    "# 自制range函数\n",
    "def my_range(first=0, last=10, step=1):\n",
    "    number = first\n",
    "    while number < last:\n",
    "        yield number\n",
    "        number += step\n",
    "\n",
    "ranger = my_range(1, 5)\n",
    "for x in ranger:\n",
    "    print(x)\n",
    "\n",
    "print('------')\n",
    "print(my_range)\n",
    "for x in my_range(1, 5):\n",
    "    print(x)"
   ]
  },
  {
   "cell_type": "markdown",
   "metadata": {},
   "source": [
    "# Decorators 装饰器\n",
    "\n",
    "用来修改已经存在的函数，可以针对结果进行再次包装处理产生新的函数。"
   ]
  },
  {
   "cell_type": "code",
   "execution_count": 18,
   "metadata": {},
   "outputs": [
    {
     "name": "stdout",
     "output_type": "stream",
     "text": [
      "---------原函数結果----------\n",
      "8\n",
      "\n",
      "---------人工对装饰器赋值------------\n",
      "Running function: add_ints\n",
      "Positional arguments: (3, 5)\n",
      "Keyword arguments: {}\n",
      "Result: 8\n",
      "8\n",
      "\n",
      "---------直接添加装饰器------\n",
      "Running function: add_ints2\n",
      "Positional arguments: (3, 5)\n",
      "Keyword arguments: {}\n",
      "Result: 8\n",
      "8\n",
      "\n",
      "---------套用一个以上的装饰器-\n",
      "Running function: new_function\n",
      "Positional arguments: (3, 5)\n",
      "Keyword arguments: {}\n",
      "Result: 64\n",
      "64\n",
      "\n",
      "交换装饰器顺序，若新的处理过程是可以做乘除交换则结果不变，但过程会变\n",
      "Running function: add_ints\n",
      "Positional arguments: (3, 5)\n",
      "Keyword arguments: {}\n",
      "Result: 8\n",
      "64\n"
     ]
    }
   ],
   "source": [
    "#装饰器1\n",
    "def document_it(func):\n",
    "    def new_function(*args, **kwargs):\n",
    "        print('Running function:', func.__name__)\n",
    "        print('Positional arguments:', args)\n",
    "        print('Keyword arguments:', kwargs)\n",
    "        result = func(*args, **kwargs)\n",
    "        print('Result:', result)\n",
    "        return result\n",
    "    return new_function\n",
    "\n",
    "def add_ints(a, b):\n",
    "    return a + b\n",
    "\n",
    "print('---------原函数結果----------')\n",
    "print(add_ints(3, 5))\n",
    "\n",
    "print('\\n---------人工对装饰器赋值------------')\n",
    "cooler_add_ints = document_it(add_ints)\n",
    "print(cooler_add_ints(3, 5))\n",
    "\n",
    "print('\\n---------直接添加装饰器------')\n",
    "@document_it\n",
    "def add_ints2(a, b):\n",
    "    return a + b\n",
    "print(add_ints2(3, 5))\n",
    "\n",
    "# 装饰器2\n",
    "def square_it(func):\n",
    "    def new_function(*args, **kwargs):\n",
    "        result = func(*args, **kwargs)\n",
    "        return result * result\n",
    "    return new_function\n",
    "\n",
    "print('\\n---------套用一个以上的装饰器-')\n",
    "@document_it\n",
    "@square_it\n",
    "def add_ints(a, b):\n",
    "    return a + b\n",
    "\n",
    "print(add_ints(3, 5))\n",
    "print('\\n交换装饰器顺序，若新的处理过程是可以做乘除交换则结果不变，但过程会变')\n",
    "@square_it\n",
    "@document_it\n",
    "def add_ints(a, b):\n",
    "    return a + b\n",
    "\n",
    "print(add_ints(3, 5))"
   ]
  },
  {
   "cell_type": "markdown",
   "metadata": {},
   "source": [
    "# Namespaces and Scope 命名空间与作用域\n",
    "\n",
    "在主程式(main)中的变量称为全局变量，可以在函数中调用，但不能改变他。\n",
    "\n",
    "在函数內出现与全局变量相同名称的变量则是另一个不同的变量，则可以改变值。"
   ]
  },
  {
   "cell_type": "code",
   "execution_count": null,
   "metadata": {},
   "outputs": [],
   "source": []
  }
 ],
 "metadata": {
  "kernelspec": {
   "display_name": "Python 3",
   "language": "python",
   "name": "python3"
  },
  "language_info": {
   "codemirror_mode": {
    "name": "ipython",
    "version": 3
   },
   "file_extension": ".py",
   "mimetype": "text/x-python",
   "name": "python",
   "nbconvert_exporter": "python",
   "pygments_lexer": "ipython3",
   "version": "3.6.4"
  }
 },
 "nbformat": 4,
 "nbformat_minor": 2
}
