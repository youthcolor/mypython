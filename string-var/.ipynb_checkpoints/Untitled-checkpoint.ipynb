{
 "cells": [
  {
   "cell_type": "code",
   "execution_count": 1,
   "metadata": {},
   "outputs": [
    {
     "name": "stdout",
     "output_type": "stream",
     "text": [
      "edcba\n",
      "dcb\n"
     ]
    }
   ],
   "source": [
    "#字符串提取\n",
    "a='abcde'\n",
    "print (a[::-1])\n",
    "print (a[-2:0:-1])"
   ]
  },
  {
   "cell_type": "code",
   "execution_count": 3,
   "metadata": {},
   "outputs": [
    {
     "name": "stdout",
     "output_type": "stream",
     "text": [
      "Penny\n",
      "Penny\n"
     ]
    }
   ],
   "source": [
    "#其中变量內的字符串是不能替换內容(因为容器为类似TUPLES的类型，CH3会说明)， 若要替换內容，则可以使用重组或是 string.replace()\n",
    "name='Henny'\n",
    "# name[0]='P' # error\n",
    "a=name.replace('H',\"P\")\n",
    "print (a)\n",
    "print ('P' + name[1:])"
   ]
  },
  {
   "cell_type": "code",
   "execution_count": 4,
   "metadata": {},
   "outputs": [
    {
     "name": "stdout",
     "output_type": "stream",
     "text": [
      "3\n"
     ]
    }
   ],
   "source": [
    "#len() 可以获取字符串长度\n",
    "a = 'abc'\n",
    "print(len(a))"
   ]
  },
  {
   "cell_type": "code",
   "execution_count": 5,
   "metadata": {},
   "outputs": [
    {
     "name": "stdout",
     "output_type": "stream",
     "text": [
      "['get gloves', 'get mask', 'give cat vitamins', 'call ambulance']\n",
      "['get', 'gloves,get', 'mask,give', 'cat', 'vitamins,call', 'ambulance']\n"
     ]
    }
   ],
   "source": [
    "#string.split()可以分割字串成list，( )內可以指定符号，默认会切割\\n(换行) 、 \\t(tab)与空格三种\n",
    "todos = 'get gloves,get mask,give cat vitamins,call ambulance'\n",
    "print(todos.split(','))\n",
    "print(todos.split()) # space default"
   ]
  },
  {
   "cell_type": "code",
   "execution_count": 6,
   "metadata": {},
   "outputs": [
    {
     "name": "stdout",
     "output_type": "stream",
     "text": [
      "Yeti, Bigfoot, Loch Ness Monster\n"
     ]
    }
   ],
   "source": [
    "crypto_list = ['Yeti', 'Bigfoot', 'Loch Ness Monster']\n",
    "print(', '.join(crypto_list))"
   ]
  },
  {
   "cell_type": "code",
   "execution_count": 7,
   "metadata": {},
   "outputs": [
    {
     "name": "stdout",
     "output_type": "stream",
     "text": [
      "True\n",
      "False\n"
     ]
    }
   ],
   "source": [
    "#string.startswith() 与 string.endswith() 分別可以检查开头結束字串是否为特定字串，返回True或False\n",
    "poem = 'abcdef'\n",
    "print(poem.startswith('ab'))\n",
    "print(poem.endswith('eef'))"
   ]
  },
  {
   "cell_type": "code",
   "execution_count": 8,
   "metadata": {},
   "outputs": [
    {
     "name": "stdout",
     "output_type": "stream",
     "text": [
      "1\n",
      "6\n",
      "2\n"
     ]
    }
   ],
   "source": [
    "#string.find() 与 string.rfind() 可以查询第一次与最后一次出现搜索字串的index，string.count()可以查询字串出现次数\n",
    "poem = 'abcdefbcd'\n",
    "print(poem.find('bc'))\n",
    "print(poem.rfind('bc'))\n",
    "print(poem.count('bc'))"
   ]
  },
  {
   "cell_type": "code",
   "execution_count": 10,
   "metadata": {},
   "outputs": [
    {
     "name": "stdout",
     "output_type": "stream",
     "text": [
      "False\n",
      "True\n"
     ]
    }
   ],
   "source": [
    "# string.isalnum()可以查询字符串中是否都是字母或数字，返回True或False\n",
    "poem = 'abc@def'\n",
    "print(poem.isalnum())\n",
    "poem = 'abcdef'\n",
    "print(poem.isalnum())"
   ]
  },
  {
   "cell_type": "code",
   "execution_count": 11,
   "metadata": {},
   "outputs": [
    {
     "name": "stdout",
     "output_type": "stream",
     "text": [
      "a duck goes into a bar\n",
      "A duck goes into a bar...\n",
      "A Duck Goes Into A Bar...\n",
      "A DUCK GOES INTO A BAR...\n",
      "a duck goes into a bar...\n",
      "A DUCK GOES INTO A BAR...\n",
      "  a duck goes into a bar...   \n",
      "a duck goes into a bar...     \n",
      "     a duck goes into a bar...\n",
      "a marmoset goes into a bar...\n",
      "a famous duck goes into a famous bar...\n"
     ]
    }
   ],
   "source": [
    "#其他还有一些方便的string內建function可以使用\n",
    "setup = 'a duck goes into a bar...'\n",
    "print(setup.strip('.'))                      #刪除結尾特定符号 'a duck goes into a bar'\n",
    "print(setup.capitalize())                    #字串第一個字符大写 'A duck goes into a bar...'\n",
    "print(setup.title())                         #每个单词的首字母大写'A Duck Goes Into A Bar...'\n",
    "print(setup.upper())                         #全部大写 'A DUCK GOES INTO A BAR...'\n",
    "print(setup.lower())                         #全部小写'a duck goes into a bar...'\n",
    "print(setup.swapcase())                      #大小写交换 'a DUCK GOES INTO A BAR...'\n",
    "print(setup.center(30))                      #将字符串中心移动至30个字符的中间 '  a duck goes into a bar...   '\n",
    "print(setup.ljust(30))                       #左对齐 'a duck goes into a bar...     '\n",
    "print(setup.rjust(30))                       #右对齐 '     a duck goes into a bar...'\n",
    "print(setup.replace('duck', 'marmoset'))     #'a marmoset goes into a bar...'\n",
    "print(setup.replace('a ', 'a famous ', 100)) #只替换前100个'a '"
   ]
  }
 ],
 "metadata": {
  "kernelspec": {
   "display_name": "Python 3",
   "language": "python",
   "name": "python3"
  },
  "language_info": {
   "codemirror_mode": {
    "name": "ipython",
    "version": 3
   },
   "file_extension": ".py",
   "mimetype": "text/x-python",
   "name": "python",
   "nbconvert_exporter": "python",
   "pygments_lexer": "ipython3",
   "version": "3.6.4"
  }
 },
 "nbformat": 4,
 "nbformat_minor": 2
}
