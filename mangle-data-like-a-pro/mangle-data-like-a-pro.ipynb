{
 "cells": [
  {
   "cell_type": "markdown",
   "metadata": {},
   "source": [
    "# Unicode\n",
    "\n",
    "早起电脑所使用的ASCII只有128种，只能应付英文和数字以及一些基本的符号，所以发展出了Unicode來面對全世界所有的符号\n",
    "\n",
    "\\u 加上4位16进制的数字表示Unicode 中的 256 个基本语言，前两位为类别，后两位为索引\n",
    "\n",
    "\\U 加上8位16进制的数字表示超出上述范围內的字符，最左一位须为0，\\N{name}用来指定字符名称 (完整清单 http://www.unicode.org/charts/charindex.html)\n",
    "\n",
    "python的unicodedata模块提供了下面两个方向的转换函数：\n",
    "- lookup() - 接受不区分大小写的标准名称，返回一個Unicode的字符;\n",
    "- name() - 接受一个的Unicode字符，返回大写形式的名称。\n"
   ]
  },
  {
   "cell_type": "code",
   "execution_count": 1,
   "metadata": {},
   "outputs": [
    {
     "name": "stdout",
     "output_type": "stream",
     "text": [
      "value=\"A\", name=\"LATIN CAPITAL LETTER A\", value2=\"A\"\n",
      "value=\"$\", name=\"DOLLAR SIGN\", value2=\"$\"\n",
      "value=\"¢\", name=\"CENT SIGN\", value2=\"¢\"\n",
      "value=\"€\", name=\"EURO SIGN\", value2=\"€\"\n",
      "value=\"☃\", name=\"SNOWMAN\", value2=\"☃\"\n",
      "café\n",
      "value=\"é\", name=\"LATIN SMALL LETTER E WITH ACUTE\", value2=\"é\"\n",
      "b'\\\\xe9'\n",
      "value=\"é\", name=\"LATIN SMALL LETTER E WITH ACUTE\", value2=\"é\"\n"
     ]
    }
   ],
   "source": [
    "def unicode_test(value):\n",
    "    import unicodedata\n",
    "    name = unicodedata.name(value)\n",
    "    value2 = unicodedata.lookup(name)\n",
    "    print('value=\"%s\", name=\"%s\", value2=\"%s\"' % (value, name, value2))\n",
    "\n",
    "unicode_test('A')\n",
    "unicode_test('$')\n",
    "unicode_test('\\u00a2')\n",
    "unicode_test('\\u20ac')\n",
    "unicode_test('\\u2603')\n",
    "\n",
    "# 想知道é这个符号的编码\n",
    "place = 'café'\n",
    "print(place)\n",
    "unicode_test('é')\n",
    "print('é'.encode('unicode-escape'))   #这里\n",
    "\n",
    "unicode_test('\\u00e9')"
   ]
  },
  {
   "cell_type": "markdown",
   "metadata": {},
   "source": [
    "使用utf-8进行编码与解码\n",
    "\n",
    "- 将字符串编码为字节；\n",
    "- 将字节解码为字符串；\n",
    "\n",
    "使用encode()来编码字符串成我们看得懂的\n",
    "\n",
    "编码 \t说明\n",
    "\n",
    "'ascii' \tASCII 编码\n",
    "\n",
    "'utf-8' \t最常用的编码\n",
    "\n",
    "'latin-1' \tISO 8859-1 编码\n",
    "\n",
    "'cp-1252' \tWindows 常用编码\n",
    "\n",
    "'unicode-escape' \tPython 中 Unicode 的文本格式， \\uxxxx 或者 \\Uxxxxxxxx"
   ]
  },
  {
   "cell_type": "code",
   "execution_count": 2,
   "metadata": {},
   "outputs": [
    {
     "name": "stdout",
     "output_type": "stream",
     "text": [
      "☃\n",
      "b'\\\\u2603'\n",
      "1\n",
      "3\n",
      "b'\\xe2\\x98\\x83'\n",
      "☃\n"
     ]
    }
   ],
   "source": [
    "#编码\n",
    "snowman = '\\u2603'\n",
    "\n",
    "print(snowman)\n",
    "print(snowman.encode('unicode-escape'))\n",
    "\n",
    "print(len(snowman))\n",
    "ds = snowman.encode('utf-8')\n",
    "\n",
    "print(len(ds))\n",
    "print(ds)\n",
    "print('☃')"
   ]
  },
  {
   "cell_type": "code",
   "execution_count": 3,
   "metadata": {},
   "outputs": [
    {
     "name": "stdout",
     "output_type": "stream",
     "text": [
      "café\n",
      "b'caf\\xc3\\xa9'\n",
      "café\n"
     ]
    }
   ],
   "source": [
    "#解码\n",
    "\n",
    "place = 'caf\\u00e9'\n",
    "print(place)\n",
    "\n",
    "place_bytes = place.encode('utf-8')\n",
    "print(place_bytes)\n",
    "\n",
    "place2 = place_bytes.decode('utf-8')\n",
    "print(place2)"
   ]
  },
  {
   "cell_type": "markdown",
   "metadata": {},
   "source": [
    "# 格式化\n",
    "\n",
    "有两种方法可以格式化文字\n",
    "\n",
    "- string % data\n",
    "- {}.format (新的写法，推荐使用)\n",
    "- f\"{Variable Name}\" (Python 3.6之後才有)\n",
    "\n",
    "第一种搭配的format符號表如下"
   ]
  },
  {
   "cell_type": "markdown",
   "metadata": {},
   "source": [
    "|  符号  |   种类   |\n",
    "| -------- | ---- |\n",
    "| %s |\t字串 |\n",
    "| %d |\t十进制整数 |\n",
    "| %x |\t十六进制整数 |\n",
    "| %o |\t八进制整数 |\n",
    "| %f |\t十进制浮点数 |\n",
    "| %e |\t以科学计数法表示的浮点数 |\n",
    "| %g |\t十进制或科学计数法表示的浮点数 |\n",
    "| %% |\t文本值 % 本身 |"
   ]
  },
  {
   "cell_type": "code",
   "execution_count": 4,
   "metadata": {},
   "outputs": [
    {
     "name": "stdout",
     "output_type": "stream",
     "text": [
      "42\n",
      "42\n",
      "2a\n",
      "52\n",
      "7.03\n",
      "7.030000\n",
      "7.030000e+00\n",
      "7.03\n",
      "100%\n",
      "混合搭配文字[我是文字]，以及数字[87.000000]\n",
      "        42\n",
      "      0042\n",
      "      42.0\n",
      "42.0\n",
      "42        \n",
      "42.0      \n"
     ]
    }
   ],
   "source": [
    "# 方法一\n",
    "print('%s' % 42)\n",
    "print('%d' % 42)\n",
    "print('%x' % 42)\n",
    "print('%o' % 42)\n",
    "print('%s' % 7.03)\n",
    "print('%f' % 7.03)\n",
    "print('%e' % 7.03)\n",
    "print('%g' % 7.03)\n",
    "print('%d%%' % 100)\n",
    "print('混合搭配文字[%s]，以及数字[%f]' % ('我是文字',87))\n",
    "\n",
    "#可搭配数字做位数控制\n",
    "print('%10d' % 42)\n",
    "print('%10.4d' % 42)\n",
    "print('%10.1f' % 42)\n",
    "print('%.1f' % 42)\n",
    "\n",
    "print('%-10d' % 42)\n",
    "print('%-10.1f' % 42)"
   ]
  },
  {
   "cell_type": "code",
   "execution_count": 5,
   "metadata": {},
   "outputs": [
    {
     "name": "stdout",
     "output_type": "stream",
     "text": [
      "42 7.03 string cheese\n",
      "string cheese 42 7.03\n",
      "42 7.03 string cheese\n",
      "42 7.03 string cheese other\n",
      "===========分隔线===========\n",
      "42 7.030000 string cheese\n",
      "42 7.030000 string cheese\n",
      "===========分隔线===========\n",
      "        42   7.030000 string cheese\n",
      "        42   7.030000 string cheese\n",
      "42         7.030000   string cheese\n",
      "    42      7.030000  string cheese\n",
      "0000000042     7.0300       stri\n",
      "!!!!!!BIG SALE!!!!!!\n"
     ]
    }
   ],
   "source": [
    "# 方法二\n",
    "n = 42\n",
    "f = 7.03\n",
    "s = 'string cheese'\n",
    "\n",
    "print('{} {} {}'.format(n, f, s))\n",
    "print('{2} {0} {1}'.format(n, f, s))\n",
    "print('{n} {f} {s}'.format(n=42, f=7.03, s='string cheese'))\n",
    "\n",
    "# 使用字典传入\n",
    "d = {'n': 42, 'f': 7.03, 's': 'string cheese'}\n",
    "print('{0[n]} {0[f]} {0[s]} {1}'.format(d, 'other')) #0表示format的第一个参数，1表示第二个参数\n",
    "\n",
    "# 方法一中的format也可以用在新方法，采用:來做衔接\n",
    "print('===========分隔线===========')\n",
    "print('{0:d} {1:f} {2:s}'.format(n, f, s))\n",
    "print('{n:d} {f:f} {s:s}'.format(n=42, f=7.03, s='string cheese'))\n",
    "print('===========分隔线===========')\n",
    "print('{0:10d} {1:10f} {2:10s}'.format(n, f, s))        #指定宽度10，默认右对齐\n",
    "print('{0:>10d} {1:>10f} {2:>10s}'.format(n, f, s))     #右对齐\n",
    "print('{0:<10d} {1:<10f} {2:<10s}'.format(n, f, s))     #左对齐\n",
    "print('{0:^10d} {1:^10f} {2:^10s}'.format(n, f, s))     #置中对齐\n",
    "print('{0:>010d} {1:>10.4f} {2:>10.4s}'.format(n, f, s)) #与旧方法不同，整数沒有经度设定项\n",
    "print('{0:!^20s}'.format('BIG SALE'))                   #指定填充符号"
   ]
  },
  {
   "cell_type": "markdown",
   "metadata": {},
   "source": [
    "# 正则表达式\n",
    "\n",
    "采用wiki的说法\n",
    "\n",
    "正则表示式，又称正规表达式、正规表示法、正则运算式（英语：Regular Expression，在代码中常简写为regex、regexp或RE），\n",
    "电脑科学的一个概念。正规表示式使用单个字符串来描述、符合一系列符合某个句法规则的字符串。\n",
    "在很多文字编辑器里，正则表达式通常被用來检索、取代那些符合某个模式的文字。\n",
    "\n",
    "简单来说，就是可以用來匹配字符串(source)中的规则(pattern)"
   ]
  },
  {
   "cell_type": "code",
   "execution_count": 6,
   "metadata": {},
   "outputs": [],
   "source": [
    "import re  #从标准函数库引入"
   ]
  },
  {
   "cell_type": "markdown",
   "metadata": {},
   "source": [
    "| function | 功能 |\n",
    "| ------- | ------- |\n",
    "| re.match( pattern, source ) |\t查看字串是否以规定的规则开头 |\n",
    "| re.search( pattern, source ) |\t会返回第一次成功的匹配值 (如果有成功) |\n",
    "| re.findall( pattern, source)  |\t会返回所有成功且不重复的匹配值 (如果有成功) |\n",
    "| re.split( pattern, source )  |\t会根据 规则 将 字符串 切分成若干段，返回由这些片段组成的list |\n",
    "| re.sub( pattern, replacement, source ) | 还需一个额外的参数 replacement，它会把 字串 中所有匹配规则的字串 替換成 replacement |"
   ]
  },
  {
   "cell_type": "code",
   "execution_count": 7,
   "metadata": {},
   "outputs": [
    {
     "name": "stdout",
     "output_type": "stream",
     "text": [
      "----------match----------\n",
      "You\n",
      "\n",
      "----------compile后match----------\n",
      "<_sre.SRE_Match object; span=(0, 3), match='You'>\n",
      "You\n",
      "\n",
      "----------match使用.*找任何位置----------\n",
      "Young Frank\n",
      "\n",
      "----------search----------\n",
      "Frank\n",
      "\n",
      "----------findall----------\n",
      "['n', 'n', 'n', 'n']\n",
      "共找到 4 个符合值\n",
      "\n",
      "['ng ', 'nke', 'nst']\n",
      "['ng', 'nk', 'ns', 'n']\n",
      "\n",
      "----------split----------\n",
      "['You', 'g Fra', 'ke', 'stei', '']\n",
      "\n",
      "----------sub----------\n",
      "You?g Fra?ke?stei?\n",
      "['Fra']\n"
     ]
    }
   ],
   "source": [
    "import re\n",
    "# .group()可以叫出符合正则表达式的字符串部分\n",
    "\n",
    "print('----------match----------')\n",
    "# 检查'Young Frankenstein'是否以'You'开头\n",
    "result = re.match('You', 'Young Frankenstein')\n",
    "if result:\n",
    "    print(result.group())\n",
    "\n",
    "print('\\n----------compile后match----------')\n",
    "# 针对较复杂情況可以先编译一个对象出來加速判断\n",
    "youpattern = re.compile('You')\n",
    "result = youpattern.match('Young Frankenstein')\n",
    "print(result)\n",
    "if result:\n",
    "    print(result.group())\n",
    "\n",
    "print('\\n----------match使用.*找任何位置----------')\n",
    "# \".\"为除「\\n」之外的任何单个字符。  \"*\"为符合前面的子运算式零次或多次。\n",
    "# 组合在一起则成为匹配任意长度任意字元(除「\\n」)的规则\n",
    "m = re.match('.*Frank', 'Young Frankenstein')\n",
    "if m:\n",
    "    print(m.group())\n",
    "\n",
    "print('\\n----------search----------')\n",
    "# 可以不用通过\".*\"來找任意位置的符合值\n",
    "m = re.search('Frank', 'Young Frankenstein')\n",
    "if m: # search返回物件\n",
    "    print(m.group())\n",
    "\n",
    "print('\\n----------findall----------')\n",
    "# 寻找所有符合的\n",
    "m = re.findall('n', 'Young Frankenstein')\n",
    "print(m) # findall返回了一个列表\n",
    "print('共找到', len(m), '个符合值\\n')\n",
    " \n",
    "#寻找后方至少有一个字符的\n",
    "m = re.findall('n..', 'Young Frankenstein')\n",
    "print(m) # findall返回了一个列表\n",
    "\n",
    "#寻找后方有一个字符(可以沒有)的\n",
    "m = re.findall('n.?', 'Young Frankenstein')\n",
    "print(m) # findall返回了一个列表\n",
    "\n",
    "print('\\n----------split----------')\n",
    "# 利用规格做切割字符串\n",
    "m = re.split('n', 'Young Frankenstein')\n",
    "print(m) # split返回了一个列表\n",
    "\n",
    "print('\\n----------sub----------')\n",
    "# 利用字符串替换字符串\n",
    "m = re.sub('n', '?', 'Young Frankenstein')\n",
    "print(m) # sub返回了一个列表\n",
    "\n",
    "#寻找英文单词边界\n",
    "m = re.findall(r'\\bFra', 'Young Frankenstein')\n",
    "print(m) # findall返回了一个列表"
   ]
  },
  {
   "cell_type": "markdown",
   "metadata": {},
   "source": [
    "| 特殊字元 | 功能 |\n",
    "| ------ | ------ |\n",
    "| . | 代表任意除 \\n 外的字符 |\n",
    "| * |\t表示任意多个字符(包括 0 个) |\n",
    "| ?\t| 表示可选字符( 0 个或 1 个) |\n",
    "| \\d\t| 一个数字字符。等价于[0-9] |\n",
    "| \\D \t| 一个非数字字符。等价于[^0-9] |\n",
    "| \\w \t| 一个 字母 或 数字 包括下划线字符。等价于[A-Za-z0-9_] |\n",
    "| \\W \t| 一个 非字母 非数字 非下划线字符。等价于[^A-Za-z0-9_] |\n",
    "| \\s \t| 空白字元。等价于[ \\f\\n\\r\\t\\v] |\n",
    "| \\S \t| 非空白字元。等价于[^ \\f\\n\\r\\t\\v] |\n",
    "| \\b \t| 单词边界（一个 \\w 与 \\W 之间的范围，顺序可逆）|\n",
    "| \\B \t| 非单词边界 |"
   ]
  },
  {
   "cell_type": "code",
   "execution_count": 10,
   "metadata": {},
   "outputs": [
    {
     "name": "stdout",
     "output_type": "stream",
     "text": [
      "100\n",
      "0123456789abcdefghijklmnopqrstuvwxyzABCDEFGHIJKLMN\n",
      "OPQRSTUVWXYZ!\"#$%&'()*+,-./:;<=>?@[\\]^_`{|}~ \t\n",
      "\r",
      "\u000b",
      "\f",
      "\n",
      "['0', '1', '2', '3', '4', '5', '6', '7', '8', '9']\n",
      "['0', '1', '2', '3', '4', '5', '6', '7', '8', '9', 'a', 'b', 'c', 'd', 'e', 'f', 'g', 'h', 'i', 'j', 'k', 'l', 'm', 'n', 'o', 'p', 'q', 'r', 's', 't', 'u', 'v', 'w', 'x', 'y', 'z', 'A', 'B', 'C', 'D', 'E', 'F', 'G', 'H', 'I', 'J', 'K', 'L', 'M', 'N', 'O', 'P', 'Q', 'R', 'S', 'T', 'U', 'V', 'W', 'X', 'Y', 'Z', '_']\n",
      "[' ', '\\t', '\\n', '\\r', '\\x0b', '\\x0c']\n"
     ]
    }
   ],
   "source": [
    "import string\n",
    "printable = string.printable  #100个ASCII字符\n",
    "print(len(printable))\n",
    "\n",
    "print(printable[0:50])\n",
    "print(printable[50:])\n",
    "\n",
    "print(re.findall('\\d', printable))  #找数字\n",
    "print(re.findall('\\w', printable))  #找字母与数字\n",
    "print(re.findall('\\s', printable))  #找空白"
   ]
  },
  {
   "cell_type": "markdown",
   "metadata": {},
   "source": [
    "| 规则 | 功能 |\n",
    "| ------------: | :--------------------------: |\n",
    "| abc \t| 文本值 abc |\n",
    "| (expr) \t| expr |\n",
    "| expr1|expr2 |\texpr1 或 expr2 |\n",
    "| . \t| 除 \\n 外的任何字元 |\n",
    "| ^ |\t源字符串的开头 |\n",
    "| $ |\t源字符串的结尾 | \n",
    "| prev? |\t0 个或 1 个 prev |\n",
    "| prev* |\t0 个或多个 prev，尽可能多地匹配 |\n",
    "| prev*? |\t0 个或多个 prev，尽可能少地匹配 |\n",
    "| prev+ |\t1 个或多个 prev，尽可能多地匹配 |\n",
    "| prev+? |\t1 个或多个 prev，尽可能少地匹配 |\n",
    "| prev{m} |\tm 个连续的 prev |\n",
    "| prev{m, n} |\tm 到 n 个连续的 prev，尽可能多地匹配 |\n",
    "| prev{m, n}? |\tm 到 n 个连续的 prev，尽可能少地匹配 |\n",
    "| [abc] |\ta 或 b 或 c(和 a|b|c一样) |\n",
    "| [^abc] |\t非(a 或 b 或 c) |\n",
    "| prev (?=next) |\t如果后面为 next，返回 prev |\n",
    "| prev (?!next) |\t如果后面非 next，返回 prev |\n",
    "| (?<=prev) next |\t如果前面为 prev，返回 next |\n",
    "| (?<!prev) next |\t如果前面非 prev，返回 next |"
   ]
  },
  {
   "cell_type": "code",
   "execution_count": 11,
   "metadata": {},
   "outputs": [
    {
     "name": "stdout",
     "output_type": "stream",
     "text": [
      "1. ['wish', 'wish']\n",
      "2. ['wish', 'wish', 'fish']\n",
      "3. []\n",
      "4. ['I wish']\n",
      "5. []\n",
      "6. ['fish tonight。']\n",
      "7. []\n",
      "8. ['wish', 'wish', 'fish']\n",
      "9. ['w', 'sh', 'w', 'sh', 'h', 'sh', 'sh', 'h']\n",
      "10. ['ght\\n', 'ght。']\n",
      "11. ['I ', 'I ']\n",
      "12. [' wish', ' wish']\n",
      "13. []\n",
      "14. ['fish']\n",
      "\n",
      "--------------------\n",
      "a dish of fish\n",
      "('a dish', 'fish')\n",
      "a dish of fish\n",
      "('a dish', 'fish')\n",
      "a dish\n",
      "fish\n"
     ]
    }
   ],
   "source": [
    "source = '''I wish I may, I wish I might\n",
    "... Have a dish of fish tonight。'''\n",
    "\n",
    "# 1. 找wish\n",
    "print(\"1.\", re.findall('wish', source))\n",
    "\n",
    "# 2. 找wish或fish\n",
    "print(\"2.\", re.findall('wish|fish', source))\n",
    "\n",
    "# 3. 找wish开头\n",
    "print(\"3.\", re.findall('^wish', source))\n",
    "\n",
    "# 4. 找I wish开头\n",
    "print(\"4.\", re.findall('^I wish', source))\n",
    "\n",
    "# 5. 找fish结束\n",
    "print(\"5.\", re.findall('fish$', source))\n",
    "\n",
    "# 6. 找fish tonight(后面可以有无一个字符)\n",
    "print(\"6.\", re.findall('fish tonight.$', source))\n",
    "\n",
    "# 7. 找fish tonight.(使用转义字符，表示\\.为一个点而不是万用字符)\n",
    "print(\"7.\", re.findall('fish tonight\\.$', source))\n",
    "\n",
    "# 8. 找wish与fish\n",
    "print(\"8.\", re.findall('[wf]ish', source))\n",
    "\n",
    "# 9. 找w、s、h组合出來的字串\n",
    "print(\"9.\", re.findall('[wsh]+', source))\n",
    "\n",
    "# 10. 找ght开头，后面接着非字母 非数字 非下划线字元\n",
    "print(\"10.\", re.findall('ght\\W', source))\n",
    "\n",
    "# 11. 找I开头，后面是wish，但只返回前面\n",
    "print(\"11.\", re.findall('I (?=wish)', source))\n",
    "\n",
    "# 12. 找前面开头是I的wish，只返回后面\n",
    "print(\"12.\", re.findall('(?<=I) wish', source))\n",
    "\n",
    "# 13. 原定希望找到fish然后前面是单词的地方，但是\\b被当做是转义字符返回符号了\n",
    "print(\"13.\", re.findall('\\bfish', source))\n",
    "\n",
    "# 14. 所以采用r來声明说我这是一个原始的字符串，不需要自动转换\n",
    "print(\"14.\", re.findall(r'\\bfish', source))\n",
    "\n",
    "print('\\n--------------------')\n",
    "#用括号规则做区分后可以通过groups()取得分开的tuple，並且可以通过<name>设定名称\n",
    "m = re.search(r'(. dish\\b).*(\\bfish)', source)\n",
    "print(m.group())\n",
    "print(m.groups())\n",
    "\n",
    "m = re.search(r'(?P<DISH>. dish\\b).*(?P<FISH>\\bfish)', source)\n",
    "print(m.group())\n",
    "print(m.groups())\n",
    "\n",
    "print(m.group('DISH'))\n",
    "print(m.group('FISH'))"
   ]
  },
  {
   "cell_type": "markdown",
   "metadata": {},
   "source": [
    "# bytes and bytearray\n",
    "\n",
    "就是介绍bytes 和 bytearray的差別，一个可变一个不可变"
   ]
  },
  {
   "cell_type": "code",
   "execution_count": 12,
   "metadata": {},
   "outputs": [
    {
     "name": "stdout",
     "output_type": "stream",
     "text": [
      "b'\\x01\\x02\\x03\\xff'\n",
      "bytearray(b'\\x01\\x02\\x03\\xff')\n",
      "bytearray(b'\\x01\\x7f\\x03\\xff')\n"
     ]
    }
   ],
   "source": [
    "blist = [1, 2, 3, 255]\n",
    "the_bytes = bytes(blist)\n",
    "print(the_bytes)\n",
    "\n",
    "the_byte_array = bytearray(blist)\n",
    "print(the_byte_array)\n",
    "\n",
    "the_byte_array[1] = 127 #可变\n",
    "print(the_byte_array)"
   ]
  },
  {
   "cell_type": "markdown",
   "metadata": {},
   "source": [
    "# 使用struct转换二进制文件\n",
    "\n",
    "使用标准函数库里的struct來作为转换二进制文件资料\n",
    "\n",
    "| 符号 |\tByte order |\n",
    "| ------- | -------- |\n",
    "| < |\t小端方案 |\n",
    "| > |\t大端方案 |\n",
    "\n",
    "| 标识符 |\t描述 |\t字节 |\n",
    "| -------- | ------- | ------- |\n",
    "| x |\t跳过一个字节 |\t1 |\n",
    "| b |\t有符号字节 |\t1 |\n",
    "| B |\t无符号字节 |\t1 |\n",
    "| h |\t有符号短整数 |\t2 |\n",
    "| H |\t无符号短整数 |\t2 |\n",
    "| i |\t有符号整数 |\t4 |\n",
    "| I |\t无符号整数 |\t4 |\n",
    "| l |\t有符号长整数 |\t4 |\n",
    "| L |\t无符号长整数 |\t4 |\n",
    "| Q |\t无符号 long long 型整数 |\t8 |\n",
    "| f |\t单精度浮点数 |\t4 |\n",
    "| d |\t双精度浮点数 |\t8 |\n",
    "| p |\t数量和字符 |\t1 + 数量 |\n",
    "| s |\t字符 |\t数量 |"
   ]
  },
  {
   "cell_type": "code",
   "execution_count": 13,
   "metadata": {},
   "outputs": [
    {
     "name": "stdout",
     "output_type": "stream",
     "text": [
      "Valid PNG, width 154 height 141\n",
      "b'\\x00\\x00\\x00\\x9a'\n",
      "b'\\x00\\x00\\x00\\x8d'\n",
      "(154, 141)\n",
      "(154, 141)\n"
     ]
    }
   ],
   "source": [
    "import struct\n",
    "valid_png_header = b'\\x89PNG\\r\\n\\x1a\\n'   #png的文件头\n",
    "data = (b'\\x89PNG\\r\\n\\x1a\\n\\x00\\x00\\x00\\rIHDR' + \n",
    "    b'\\x00\\x00\\x00\\x9a\\x00\\x00\\x00\\x8d\\x08\\x02\\x00\\x00\\x00\\xc0')   #一张图文件的前段\n",
    "\n",
    "if data[:8] == valid_png_header:\n",
    "    width, height = struct.unpack('>LL', data[16:24])\n",
    "    print('Valid PNG, width', width, 'height', height)\n",
    "else:\n",
    "    print('Not a valid PNG')\n",
    "\n",
    "#反过来转换\n",
    "print(struct.pack('>L', 154))\n",
    "print(struct.pack('>L', 141))\n",
    "\n",
    "print(struct.unpack('>2L', data[16:24]))\n",
    "print(struct.unpack('>16x2L6x', data))"
   ]
  },
  {
   "cell_type": "markdown",
   "metadata": {},
   "source": [
    "# 其他二进制工具\n",
    "\n",
    "- bitstring（ https://code.google.com/p/python-bitstring/ ）\n",
    "- construct（ http://construct.readthedocs.org/en/latest/ ）\n",
    "- hachoir（ https://bitbucket.org/haypo/hachoir/wiki/Home ）\n",
    "- binio（ http://spika.net/py/binio/ )\n"
   ]
  },
  {
   "cell_type": "markdown",
   "metadata": {},
   "source": [
    "# binascii函数\n",
    "\n",
    "十六进制、六十四进制、uuencoded，等等之间的转换函数。"
   ]
  },
  {
   "cell_type": "code",
   "execution_count": 14,
   "metadata": {},
   "outputs": [
    {
     "name": "stdout",
     "output_type": "stream",
     "text": [
      "b'89504e470d0a1a0a'\n",
      "b'\\x89PNG\\r\\n\\x1a\\n'\n"
     ]
    }
   ],
   "source": [
    "import binascii\n",
    "\n",
    "#八字节转十六bytes\n",
    "valid_png_header = b'\\x89PNG\\r\\n\\x1a\\n'\n",
    "print(binascii.hexlify(valid_png_header))\n",
    "\n",
    "#十六bytes转八bytes\n",
    "print(binascii.unhexlify(b'89504e470d0a1a0a'))"
   ]
  },
  {
   "cell_type": "markdown",
   "metadata": {},
   "source": [
    "# 位运算\n",
    "\n",
    "以整數 a（十进制 5，二进制 0b0101）和 b（十进制 1，二进制 0b0001）做示范"
   ]
  },
  {
   "cell_type": "markdown",
   "metadata": {},
   "source": [
    "| 运算符 |\t描述 |\t示范 |\t十进制結果 |\t二进制結果 |\n",
    "| ------ | ------ | ------ | ------ | ------- |\n",
    "| & | 与 |\ta & b |\t1 |\t0b0001 |\n",
    "| \\| |\t| 或 |\ta | b |\t5 |\t0b0101 |\n",
    "| ^ |\t异或 |\ta ^ b |\t4 |\t0b0100 |\n",
    "| ~ |\t取反 |\t~a |\t-6 |\t取决于 int 类型的大小 |\n",
    "| << |\t左位移 |\ta << 1 |\t10 |\t0b1010 |\n",
    "| >> |\t右位移 |\ta >> 1 |\t2 |\t0b0010 |"
   ]
  }
 ],
 "metadata": {
  "kernelspec": {
   "display_name": "Python 3",
   "language": "python",
   "name": "python3"
  },
  "language_info": {
   "codemirror_mode": {
    "name": "ipython",
    "version": 3
   },
   "file_extension": ".py",
   "mimetype": "text/x-python",
   "name": "python",
   "nbconvert_exporter": "python",
   "pygments_lexer": "ipython3",
   "version": "3.6.5"
  }
 },
 "nbformat": 4,
 "nbformat_minor": 2
}
