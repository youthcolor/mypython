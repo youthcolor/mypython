{
 "cells": [
  {
   "cell_type": "code",
   "execution_count": 2,
   "metadata": {},
   "outputs": [
    {
     "name": "stdout",
     "output_type": "stream",
     "text": [
      "[]\n",
      "['Monday', 'Tuesday', 'Wednesday', 'Thursday', 'Friday']\n",
      "['emu', 'ostrich', 'cassowary']\n",
      "['Graham', 'John', 'Terry', 'Terry', 'Michael']\n"
     ]
    }
   ],
   "source": [
    "#List可以使用 [] 或是 list() 來创建空的，或是直接加入值进去，使用逗号区分即可。內容可以重复出现，且具有順序性。\n",
    "empty_list = []\n",
    "weekdays = ['Monday', 'Tuesday', 'Wednesday', 'Thursday', 'Friday']\n",
    "big_birds = ['emu', 'ostrich', 'cassowary']\n",
    "first_names = ['Graham', 'John', 'Terry', 'Terry', 'Michael']\n",
    " \n",
    "print(empty_list)\n",
    "print(weekdays)\n",
    "print(big_birds)\n",
    "print(first_names)"
   ]
  },
  {
   "cell_type": "code",
   "execution_count": 3,
   "metadata": {},
   "outputs": [
    {
     "name": "stdout",
     "output_type": "stream",
     "text": [
      "['c', 'a', 't']\n",
      "['ready', 'fire', 'aim']\n",
      "['1', '6', '1952']\n"
     ]
    }
   ],
   "source": [
    "#可以使用 list() 来作为转换其他类型到List，或是前面2.3小节提到的字串split()函数\n",
    "print(list('cat'))\n",
    "\n",
    "a_tuple = ('ready', 'fire', 'aim')\n",
    "print(list(a_tuple))\n",
    "\n",
    "birthday = '1/6/1952'\n",
    "print(birthday.split('/'))"
   ]
  },
  {
   "cell_type": "code",
   "execution_count": 4,
   "metadata": {},
   "outputs": [
    {
     "name": "stdout",
     "output_type": "stream",
     "text": [
      "a\n",
      "b\n",
      "d\n",
      "c\n",
      "['QQ', 'b']\n",
      "[]\n",
      "['QQ', 'c']\n"
     ]
    }
   ],
   "source": [
    "#提取內容時跟字符串一样使用[ ]， index 从0开始，-1为最后一个， index 数值的范围请务必在总长度内，\n",
    "#不然会出现IndexError。也可以将其修改替换內容。 提取多个以上也如同字符串中的用法 [start : end : step]，\n",
    "#注意这边只会提取到index为end -\n",
    "XD = ['a', 'b', 'c', 'd']\n",
    "print(XD[0])\n",
    "print(XD[1])\n",
    "print(XD[-1])\n",
    "print(XD[-2])\n",
    " \n",
    "XD[0] = 'QQ'\n",
    " \n",
    "print(XD[0:2])\n",
    "print(XD[2:-2])\n",
    "print(XD[::2])"
   ]
  },
  {
   "cell_type": "code",
   "execution_count": 5,
   "metadata": {},
   "outputs": [
    {
     "name": "stdout",
     "output_type": "stream",
     "text": [
      "['a', 'b'] ['e', 'f']\n",
      "['a', 'b', 'QQ~']\n",
      "['a', 'b', 'QQ~', 'e', 'f']\n",
      "['a', 'b', 'QQ~', 'e', 'f', 'e', 'f']\n",
      "['a', 'b', 'QQ~', 'e', 'f', 'e', 'f', ['e', 'f']]\n",
      "['a', 'b', 'c', 'QQ~', 'e', 'f', 'e', 'f', ['e', 'f']]\n",
      "['a', 'b', 'c', 'QQ~', 'e', 'f', 'e', 'f', ['e', 'f'], 'ker']\n",
      "['a', 'b', 'c', 'QQ~', 'e', 'f', 'e', 'f', 'ker']\n",
      "['a', 'b', 'c', 'QQ~', 'f', 'e', 'f', 'ker']\n",
      "['a', 'b', 'c', 'f', 'e', 'f', 'ker'] QQ~\n",
      "3\n",
      "True\n",
      "2\n"
     ]
    }
   ],
   "source": [
    "#List里面可以包含不同类型的Object，当然也包括List\n",
    "#可以使用List的內建函数append()来向后面添加元素\n",
    "#语法\t效果\n",
    "#list.extend()或 +=\t合并list\n",
    "#list.insert()\t在指定位置插入元素，如果位置超过最大长度則放在最后面，故不会飞到很远去或出错。\n",
    "#del Object\t用来刪除某个位置的元素，剩余元素会自动往前填补\n",
    "#list.remove()\t用来移除指定元素\n",
    "#list.pop()\t类似剪出的效果，可以將指定位置的元素剪出來，默认index为 -1\n",
    "#list.index()\t找查指定元素第一次出现的index\n",
    "#in Object\t判断指定元素是否存在\n",
    "#list.count()\t计算指定元素出現次数\n",
    "XD = ['a', 'b']\n",
    "XD2 = ['e', 'f']\n",
    "print(XD, XD2)\n",
    " \n",
    "XD.append('QQ~')\n",
    "print(XD)\n",
    " \n",
    "XD.extend(XD2)\n",
    "print(XD)\n",
    " \n",
    "XD += XD2\n",
    "print(XD)\n",
    " \n",
    "XD.append(XD2)\n",
    "print(XD)\n",
    " \n",
    "XD.insert(2, 'c')\n",
    "print(XD)\n",
    " \n",
    "XD.insert(500, 'ker')\n",
    "print(XD)\n",
    " \n",
    "del XD[8]\n",
    "print(XD)\n",
    " \n",
    "XD.remove('e')\n",
    "print(XD)\n",
    " \n",
    "QQ = XD.pop(3)\n",
    "print(XD, QQ)\n",
    " \n",
    "print(XD.index('f'))\n",
    "print('ker' in XD)\n",
    "print(XD.count('f'))\n"
   ]
  },
  {
   "cell_type": "code",
   "execution_count": 6,
   "metadata": {},
   "outputs": [
    {
     "name": "stdout",
     "output_type": "stream",
     "text": [
      "a, b, c\n",
      "a, b, c\n",
      "a, b, c\n",
      "['a', 'b', 'c']\n"
     ]
    }
   ],
   "source": [
    "print(', '.join(['a', 'b', 'c']))\n",
    "print(', '.join('abc'))\n",
    "print(', '.join(('a', 'b', 'c')))\n",
    "print('a, b, c'.split(', '))"
   ]
  },
  {
   "cell_type": "code",
   "execution_count": 7,
   "metadata": {},
   "outputs": [
    {
     "name": "stdout",
     "output_type": "stream",
     "text": [
      "[4, 2, 3] [4, 2, 3]\n",
      "['surprises', 2, 3] ['surprises', 2, 3] [4, 2, 3] [4, 2, 3] [4, 2, 3]\n"
     ]
    }
   ],
   "source": [
    "#list.sort()为list排序方法，\n",
    "#sorted()为通用的排序函数 其中的差异在与sort()會直接改变輸入的list，sorted()则会另外回传一个排序好的Object，\n",
    "#len()可以获取list的长度。\n",
    "\n",
    "#使用 '=' 设定变量则会是传址，等同于前面說的标签概念，把两张标签贴在同一个物件上(number or srting 除外) 这样当我改变Object后，\n",
    "#则Object上所有的标签所指到的值都会跟着改变， 若要改成赋值的话可以使用copy() 、 list.list() 与 list[:] 来达到目的\n",
    "\n",
    "a = [1, 2, 3]\n",
    "b = a\n",
    " \n",
    "a[0] = 4\n",
    "print(a, b)\n",
    " \n",
    "c = a.copy()\n",
    "d = list(a)\n",
    "e = a[:]\n",
    "a[0] = 'surprises'\n",
    "print(a, b, c, d, e)"
   ]
  },
  {
   "cell_type": "code",
   "execution_count": 8,
   "metadata": {},
   "outputs": [
    {
     "name": "stdout",
     "output_type": "stream",
     "text": [
      "()\n",
      "('tem',)\n",
      "('tem1', 'tem2', 'tem3')\n",
      "tem1 tem2 tem3\n"
     ]
    }
   ],
   "source": [
    "#Tuples也是一个List，差別只在不能做修改，一旦给定后，无法再进行增加 刪除 修改等操作，所以可以当作一个常数的List\n",
    "#创建为空的时候使用()，一个以上时括号可以省略，但是只有一个时最后一个逗号不可以省略。\n",
    "a = ()   #空Tuples\n",
    "b = 'tem', #b:(tem,) 括号可以省略，但是一个的時候逗号不能省略\n",
    "c = 'tem1', 'tem2', 'tem3'  #('tem1', 'tem2', 'tem3')\n",
    "d, e, f = c   #d:'tem1', e:'tem2', f:'tem3'\n",
    " \n",
    "print(a)\n",
    "print(b)\n",
    "print(c)\n",
    "print(d, e, f)"
   ]
  },
  {
   "cell_type": "code",
   "execution_count": 9,
   "metadata": {},
   "outputs": [
    {
     "name": "stdout",
     "output_type": "stream",
     "text": [
      "3 1 2\n"
     ]
    }
   ],
   "source": [
    "#结合以上的用法可以有一个超级方便直觉的用法，任意交换变量间的值。\n",
    "#(在等号右边的东西会先形成一个Tuples，再分配给前面的变量。)\n",
    "a = '1'\n",
    "b = '2'\n",
    "c = '3'\n",
    "b, c, a = a, b, c\n",
    " \n",
    "print(a, b, c)"
   ]
  },
  {
   "cell_type": "markdown",
   "metadata": {},
   "source": [
    "既然他不能修改等等的那相对于List一定也有其他好处\n",
    "\n",
    "- 空间较小\n",
    "- 不会不小心修改到值\n",
    "- 可以当作dictionary的key值 (后一小节有说明)\n",
    "- 命名Tuples，可以做为Object的替代 (第六章会说明)\n",
    "- 函数的传递是以Tuples形式传递"
   ]
  },
  {
   "cell_type": "markdown",
   "metadata": {},
   "source": [
    "字典类型为一种没有顺序的的容器，其使用的是大括弧{}，里面包含键值与值(key : value)\n",
    "可以使用dict()来转换其他类型至dictionary\n",
    "\n",
    "- 语法\t效果\n",
    "- D.update()\t合并不同dictionary\n",
    "- del Object\t刪除某项\n",
    "- in Object\t是否存在里面(key)\n",
    "- *D.keys() *\t获得所有key值\n",
    "- D.values()\t获得所有value值\n",
    "- *D.items() *\t获得全部的key: value( Tuples类型 )\n",
    "- *D.copy() *\t复制一个dictionary\n",
    "- *D.clear() *\t清除所有內容"
   ]
  },
  {
   "cell_type": "code",
   "execution_count": 10,
   "metadata": {
    "scrolled": false
   },
   "outputs": [
    {
     "name": "stdout",
     "output_type": "stream",
     "text": [
      "{'a': 'v', 'b': 'w'} {'d': 'y', 'c': 'x'}\n",
      "{'a': 'b', 'c': 'd', 'e': 'f'} {'a': 'b', 'c': 'd', 'e': 'f'} {'a': 'b', 'c': 'd', 'e': 'f'}\n",
      "{'a': 'b', 'c': 'd', 'e': 'f'} {'a': 'b', 'c': 'd', 'e': 'f'}\n",
      "============分割线============\n",
      "x\n",
      "z\n",
      "{'a': 'v', 'b': 'w', 'd': 'y', 'c': 'z'}\n",
      "{'a': 'v', 'b': 'w', 'c': 'z'}\n",
      "True\n",
      "============分割线============\n",
      "dict_keys(['a', 'b', 'c'])\n",
      "dict_values(['v', 'w', 'z'])\n",
      "[('a', 'v'), ('b', 'w'), ('c', 'z')]\n",
      "============分割线============\n",
      "{'a': 'n', 'b': 'w', 'c': 'z'} {'a': 'n', 'b': 'w', 'c': 'z'}\n",
      "{'a': 'n', 'b': 'w', 'c': 'z'} {'a': 'm', 'b': 'w', 'c': 'z'}\n",
      "{}\n"
     ]
    }
   ],
   "source": [
    "dic = { 'a':'v','b':'w', }  #最后一个逗号可以省略\n",
    "dic_ = { 'd':'y','c':'x' }  #最后一个逗号可以省略\n",
    "print(dic, dic_)\n",
    " \n",
    " \n",
    "lol1 = [ ['a', 'b'], ['c', 'd'], ['e', 'f'] ]\n",
    "lol2 = [ ('a', 'b'), ('c', 'd'), ('e', 'f') ]\n",
    "lol3 = ( ['a', 'b'], ['c', 'd'], ['e', 'f'] )\n",
    "print(dict(lol1), dict(lol2), dict(lol3))\n",
    " \n",
    " \n",
    "tos1 = [ 'ab', 'cd', 'ef' ]\n",
    "tos2 = ( 'ab', 'cd', 'ef' )\n",
    "print(dict(tos1), dict(tos2))\n",
    " \n",
    "print('============分割线============')\n",
    "print(dic_['c'])\n",
    "dic_['c'] = 'z'\n",
    "print(dic_['c'])\n",
    " \n",
    "dic.update(dic_)\n",
    "print(dic)\n",
    " \n",
    " \n",
    "del dic['d']\n",
    "print(dic)\n",
    " \n",
    "print('a' in dic)\n",
    " \n",
    "print('============分割线============')\n",
    "print(dic.keys())         # dict_keys(['a', 'b', 'c'])\n",
    "print(dic.values())       # ['v', 'w', 'x']\n",
    "print(list(dic.items()))  # [('a', 'v'), ('b', 'w'), ('c', 'x')]\n",
    " \n",
    "print('============分割线============')\n",
    "dic_new = dic\n",
    "dic_new['a'] = 'n'\n",
    "print(dic, dic_new)\n",
    " \n",
    "dic_cp = dic.copy()\n",
    "dic_cp['a'] = 'm'\n",
    "print(dic, dic_cp)\n",
    " \n",
    "dic.clear() \n",
    "print(dic)"
   ]
  },
  {
   "cell_type": "markdown",
   "metadata": {},
   "source": [
    "> 集合就好比沒有value的dictionary，一样没有顺序，使用大括弧{}。\n",
    "- 空白集合为set()，也合相当于False。\n",
    "- 使用set()可以转换其他类型至集合，dictionary转换至set只会保留key值。\n",
    "- in也可以检查特定元素是否存在其中。"
   ]
  },
  {
   "cell_type": "code",
   "execution_count": 11,
   "metadata": {},
   "outputs": [
    {
     "name": "stdout",
     "output_type": "stream",
     "text": [
      "set() {0, 2, 4, 6, 8}\n",
      "{'t', 's', 'r', 'l', 'e'}\n",
      "{'A', 'D', 'P', 'M'}\n",
      "{'Echoes', 'Atom', 'U'}\n",
      "{'orange', 'apple'}\n"
     ]
    }
   ],
   "source": [
    "empty_set = set()\n",
    "even_numbers = {0, 2, 4, 6, 8}\n",
    "print(empty_set, even_numbers)\n",
    " \n",
    " \n",
    "print(set( 'letters' ))\n",
    "print(set( ['D', 'A', 'P', 'M'] ))\n",
    "print(set( ('U', 'Echoes', 'Atom') ))\n",
    "print(set( {'apple': 'red', 'orange': 'orange'} ))"
   ]
  },
  {
   "cell_type": "markdown",
   "metadata": {},
   "source": [
    "比较不同容器之间的使用差别，使用方括号([])创建列表，使用逗号创建元组，使用花括号({})创建字典。"
   ]
  },
  {
   "cell_type": "code",
   "execution_count": 12,
   "metadata": {},
   "outputs": [
    {
     "name": "stdout",
     "output_type": "stream",
     "text": [
      "Harpo\n",
      "Harpo\n",
      "harp\n"
     ]
    }
   ],
   "source": [
    "marx_list = ['Groucho', 'Chico', 'Harpo']\n",
    "marx_tuple = 'Groucho', 'Chico', 'Harpo'\n",
    "marx_dict = {'Groucho': 'banjo', 'Chico': 'piano', 'Harpo': 'harp'} \n",
    "print(marx_list[2])\n",
    "print(marx_tuple[2])\n",
    "print(marx_dict['Harpo'])"
   ]
  },
  {
   "cell_type": "markdown",
   "metadata": {},
   "source": [
    "容器中可以包含不同类型的元素，也可以包含其他的容器物件。"
   ]
  },
  {
   "cell_type": "code",
   "execution_count": 13,
   "metadata": {},
   "outputs": [
    {
     "name": "stdout",
     "output_type": "stream",
     "text": [
      "{'Stooges': ['Moe', 'Curly', 'Larry'], 'Marxes': ['Groucho', 'Chico', 'Harpo'], 'Pythons': ['Chapman', 'Cleese', 'Gilliam', 'Jones', 'Palin']}\n",
      "['Groucho', 'Chico', 'Harpo']\n",
      "Chico\n"
     ]
    }
   ],
   "source": [
    "dict_of_lists = {'Stooges': ['Moe', 'Curly', 'Larry'],\n",
    "                'Marxes': ['Groucho', 'Chico', 'Harpo'],\n",
    "                'Pythons': ['Chapman', 'Cleese', 'Gilliam', 'Jones', 'Palin']}\n",
    " \n",
    "print(dict_of_lists)\n",
    "print(dict_of_lists['Marxes'])\n",
    "print(dict_of_lists['Marxes'][1])"
   ]
  }
 ],
 "metadata": {
  "kernelspec": {
   "display_name": "Python 3",
   "language": "python",
   "name": "python3"
  },
  "language_info": {
   "codemirror_mode": {
    "name": "ipython",
    "version": 3
   },
   "file_extension": ".py",
   "mimetype": "text/x-python",
   "name": "python",
   "nbconvert_exporter": "python",
   "pygments_lexer": "ipython3",
   "version": "3.6.4"
  }
 },
 "nbformat": 4,
 "nbformat_minor": 2
}
