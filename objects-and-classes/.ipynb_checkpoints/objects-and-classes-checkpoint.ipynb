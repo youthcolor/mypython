{
 "cells": [
  {
   "cell_type": "markdown",
   "metadata": {},
   "source": [
    "# 什么是对象\n",
    "python裡面所有的东西都是对象(objects)，连同一个整数也是一种对象，python的语法设计可以巧妙的隐藏诸多细节\n",
    "\n",
    "本章节将会介绍自定义新的对象以及修改现有的对象。\n",
    "\n",
    "对象包含属性(attribute)与方法(methods)，\n",
    "例如整数5和7都是整数object，都包含了基本的+-*/方法，\n",
    "'cat' 和 'duck'都是字符串Object，都包含了 capitalize() 和 replace() 两种方法\n",
    "\n",
    "所以当你要创建一个新的object时，就必须先定义一个新的类，用它来清楚规范其类别可以创造出来的对象有什么样的属性(attribute)与方法(methods)\n",
    "\n",
    "Object像名词，方法就像个动词。Object代表一个独立的事物，方法用来定义它如何与其他Object相互作用。\n",
    "与模块不同的是，你可以同时创建多个同类别的Object，他们之间的属性值可能各有不同，对象像是个结构，包含着数据。"
   ]
  },
  {
   "cell_type": "markdown",
   "metadata": {},
   "source": [
    "# 使用class定义类\n",
    "我们可以通过class来定义自己的类，就可以创造出新的Object"
   ]
  },
  {
   "cell_type": "code",
   "execution_count": null,
   "metadata": {},
   "outputs": [],
   "source": [
    "# 自定义一个Person\n",
    "# __init__为定义属性部分\n",
    "# self为object自己\n",
    "\n",
    "class Person():\n",
    "    def __init__(self, name, email):\n",
    "        self.name = name\n",
    "        self.email = email\n",
    "    \n",
    "    def XDD(self, tem):\n",
    "        return 'I am ' + self.name + tem\n",
    "    \n",
    "hunter = Person('Elmer Fudd', 'QQ@WW.tw')\n",
    "\n",
    "Husky = Person('Husky', 'ZDD@WW.tw')\n",
    "\n",
    "print(hunter.name)\n",
    "print(hunter.email)\n",
    "\n",
    "print(hunter.XDD('!!!'))\n",
    "\n",
    "print(Husky.name)\n",
    "print(Husky.email)"
   ]
  }
 ],
 "metadata": {
  "kernelspec": {
   "display_name": "Python 3",
   "language": "python",
   "name": "python3"
  },
  "language_info": {
   "codemirror_mode": {
    "name": "ipython",
    "version": 3
   },
   "file_extension": ".py",
   "mimetype": "text/x-python",
   "name": "python",
   "nbconvert_exporter": "python",
   "pygments_lexer": "ipython3",
   "version": "3.6.4"
  }
 },
 "nbformat": 4,
 "nbformat_minor": 2
}
