{
 "cells": [
  {
   "cell_type": "markdown",
   "metadata": {},
   "source": [
    "# 什么是对象\n",
    "python裡面所有的东西都是对象(objects)，连同一个整数也是一种对象，python的语法设计可以巧妙的隐藏诸多细节\n",
    "\n",
    "本章节将会介绍自定义新的对象以及修改现有的对象。\n",
    "\n",
    "对象包含属性(attribute)与方法(methods)，\n",
    "例如整数5和7都是整数object，都包含了基本的+-*/方法，\n",
    "'cat' 和 'duck'都是字符串Object，都包含了 capitalize() 和 replace() 两种方法\n",
    "\n",
    "所以当你要创建一个新的object时，就必须先定义一个新的类，用它来清楚规范其类别可以创造出来的对象有什么样的属性(attribute)与方法(methods)\n",
    "\n",
    "Object像名词，方法就像个动词。Object代表一个独立的事物，方法用来定义它如何与其他Object相互作用。\n",
    "与模块不同的是，你可以同时创建多个同类别的Object，他们之间的属性值可能各有不同，对象像是个结构，包含着数据。"
   ]
  },
  {
   "cell_type": "markdown",
   "metadata": {},
   "source": [
    "# 使用class定义类\n",
    "我们可以通过class来定义自己的类，就可以创造出新的Object"
   ]
  },
  {
   "cell_type": "code",
   "execution_count": 1,
   "metadata": {},
   "outputs": [
    {
     "name": "stdout",
     "output_type": "stream",
     "text": [
      "Elmer Fudd\n",
      "QQ@WW.tw\n",
      "I am Elmer Fudd!!!\n",
      "Husky\n",
      "ZDD@WW.tw\n"
     ]
    }
   ],
   "source": [
    "# 自定义一个Person\n",
    "# __init__为定义属性部分\n",
    "# self为object自己\n",
    "\n",
    "class Person():\n",
    "    def __init__(self, name, email):\n",
    "        self.name = name\n",
    "        self.email = email\n",
    "    \n",
    "    def XDD(self, tem):\n",
    "        return 'I am ' + self.name + tem\n",
    "    \n",
    "hunter = Person('Elmer Fudd', 'QQ@WW.tw')\n",
    "\n",
    "Husky = Person('Husky', 'ZDD@WW.tw')\n",
    "\n",
    "print(hunter.name)\n",
    "print(hunter.email)\n",
    "\n",
    "print(hunter.XDD('!!!'))\n",
    "\n",
    "print(Husky.name)\n",
    "print(Husky.email)"
   ]
  },
  {
   "cell_type": "markdown",
   "metadata": {},
   "source": [
    "# 继承\n",
    "\n",
    "在编写类时，如果发现已经有前人开发过，那就可以不用整段赋值，可以采用继承的方法取得他的属性与方法。 并且补充自己会用的功能，一方面可以减少去改已有的类的辛苦，也可以省去复制粘贴的功夫。"
   ]
  },
  {
   "cell_type": "code",
   "execution_count": 2,
   "metadata": {},
   "outputs": [
    {
     "name": "stdout",
     "output_type": "stream",
     "text": [
      "add: 4\n",
      "add: 6\n"
     ]
    }
   ],
   "source": [
    "class math():\n",
    "    def add(self, a, b):\n",
    "        print(\"add:\", a + b)\n",
    "\n",
    "class mean(math):\n",
    "    pass\n",
    "\n",
    "ab = mean()\n",
    "ab.add(1, 3)\n",
    "\n",
    "ac = math()\n",
    "ac.add(1,5)"
   ]
  },
  {
   "cell_type": "markdown",
   "metadata": {},
   "source": [
    "# 覆盖方法\n",
    "\n",
    "当然我们也可以覆盖掉原有的方法"
   ]
  },
  {
   "cell_type": "code",
   "execution_count": 3,
   "metadata": {},
   "outputs": [
    {
     "name": "stdout",
     "output_type": "stream",
     "text": [
      "add: 7\n"
     ]
    }
   ],
   "source": [
    "class math():\n",
    "    def add(self, a, b):\n",
    "        print(\"add:\", a + b)\n",
    "\n",
    "class mean(math):\n",
    "    def add(self, a, b):\n",
    "        print(\"add:\", a + b + b)\n",
    "\n",
    "ab = mean()\n",
    "ab.add(1, 3)"
   ]
  },
  {
   "cell_type": "markdown",
   "metadata": {},
   "source": [
    "# 添加新方法\n",
    "\n",
    "前面的都是复制与修改接着我们也可以在新的类中加入新的方法"
   ]
  },
  {
   "cell_type": "code",
   "execution_count": 4,
   "metadata": {},
   "outputs": [
    {
     "name": "stdout",
     "output_type": "stream",
     "text": [
      "add: 4\n",
      "add: -2\n",
      "add: 6\n"
     ]
    }
   ],
   "source": [
    "class math():\n",
    "    def add(self, a, b):\n",
    "        print(\"add:\", a + b)\n",
    "\n",
    "class mean(math):\n",
    "    def less(self, a, b):\n",
    "        print(\"add:\", a - b)\n",
    "\n",
    "ab = mean()\n",
    "ab.add(1, 3)\n",
    "ab.less(1, 3)\n",
    "\n",
    "ac = math()\n",
    "ac.add(1, 5)"
   ]
  },
  {
   "cell_type": "markdown",
   "metadata": {},
   "source": [
    "# 使用super得到父类的帮助\n",
    "\n",
    "那如果我们要修改属性部分( __int__ )，除了直接重写一个盖掉以外还有super()方法可以用來扩充既有的屬性，这样才有达到继承的目的"
   ]
  },
  {
   "cell_type": "code",
   "execution_count": 5,
   "metadata": {},
   "outputs": [
    {
     "name": "stdout",
     "output_type": "stream",
     "text": [
      "Elmer Fudd\n",
      "QQ@CC.tw\n",
      "=============\n",
      "Elmer Fudd\n",
      "QQ@CC.tw\n",
      "2016/05/07\n"
     ]
    }
   ],
   "source": [
    "class Person():\n",
    "    def __init__(self, name, email):\n",
    "        self.name = name\n",
    "        self.email = email\n",
    "\n",
    "class Person_day(Person):\n",
    "    def __init__(self, name, email, birthday):\n",
    "        super().__init__(name, email)\n",
    "        self.birthday = birthday\n",
    "\n",
    "hunter = Person('Elmer Fudd', 'QQ@CC.tw')\n",
    "husky = Person_day('Elmer Fudd', 'QQ@CC.tw', '2016/05/07')\n",
    "\n",
    "print(hunter.name)\n",
    "print(hunter.email)\n",
    "print('=============')\n",
    "print(husky.name)\n",
    "print(husky.email)\n",
    "print(husky.birthday)"
   ]
  },
  {
   "cell_type": "markdown",
   "metadata": {},
   "source": [
    "# self\n",
    "\n",
    "在定义属性時常常会看到self，self指的就是被创建出來的Object本身。\n",
    "所以在__int__(self, name)的参数部分，实际上不需要传入self参数。"
   ]
  },
  {
   "cell_type": "code",
   "execution_count": 6,
   "metadata": {},
   "outputs": [],
   "source": [
    "class Person():\n",
    "    def __init__(self, name, email):\n",
    "        self.name = name\n",
    "        self.email = email\n",
    "\n",
    "XDD = Person('QQ', 'QQ@gmail.com')  #不需要传入self参数"
   ]
  },
  {
   "cell_type": "markdown",
   "metadata": {},
   "source": [
    "# 使用属性对特性进行访问和设置\n",
    "\n",
    "在其他語言中，可以设置getter 和 setter來确保私有属性的读写，但是在python一切都是公开的，\n",
    "可以通过property()來达到python风格的写法，即可將属性值藏起來，不用通过调用每个getter()和setter()來达到改变私有变量\n",
    "\n",
    "若沒有给定setter函数，则无法通过property()來改变属性值，当然前提是在別人不知道实际存储变量的属性名称是什么"
   ]
  },
  {
   "cell_type": "code",
   "execution_count": 7,
   "metadata": {},
   "outputs": [
    {
     "name": "stdout",
     "output_type": "stream",
     "text": [
      "提取名称时，则调用get函数\n",
      "---使用get函数---\n",
      "Howard!!\n",
      "\n",
      "设定名称时，则调用set函数\n",
      "---使用set函数---\n",
      "\n",
      "name被改成Daffy\n",
      "---使用get函数---\n",
      "Daffy??!!\n",
      "\n",
      "当然也可以通过原始的set_name()与get_name()进行修改私有属性\n",
      "---使用get函数---\n",
      "Daffy??!!\n",
      "---使用set函数---\n",
      "---使用get函数---\n",
      "Daffyyyy??!!\n"
     ]
    }
   ],
   "source": [
    "class Duck():\n",
    "    def __init__(self, input_name):\n",
    "        self.hidden_name = input_name\n",
    "\n",
    "    #取的 name 的函数\n",
    "    def get_name(self):\n",
    "        print('---使用get函数---')\n",
    "        return self.hidden_name + '!!'\n",
    "\n",
    "    #设定 name 的函数\n",
    "    def set_name(self, input_name):\n",
    "        print('---使用set函数---')\n",
    "        self.hidden_name = input_name + '??'\n",
    "\n",
    "    #使用property(get,set)來包裝，让使用上更方便\n",
    "    name = property(get_name, set_name)\n",
    "\n",
    "#定义Object为Duck类，并给定name，从头到尾都沒有直接抄作hidden_name來改变属性值\n",
    "fowl = Duck('Howard')\n",
    "print('提取名称时，则调用get函数')\n",
    "print(fowl.name)\n",
    "\n",
    "print('\\n设定名称时，则调用set函数')\n",
    "fowl.name = 'Daffy'\n",
    "print('\\nname被改成Daffy')\n",
    "print(fowl.name)\n",
    "\n",
    "print('\\n当然也可以通过原始的set_name()与get_name()进行修改私有属性')\n",
    "print(fowl.get_name())\n",
    "fowl.set_name('Daffyyyy')\n",
    "print(fowl.get_name())"
   ]
  },
  {
   "cell_type": "code",
   "execution_count": 8,
   "metadata": {
    "scrolled": true
   },
   "outputs": [
    {
     "name": "stdout",
     "output_type": "stream",
     "text": [
      "提取名称时，则调用get函数\n",
      "---使用get函数---\n",
      "Howard\n",
      "\n",
      "设定名称时，则调用set函数\n",
      "---使用set函数---\n",
      "nname被改成Daffy\n",
      "---使用get函数---\n",
      "Daffy\n"
     ]
    }
   ],
   "source": [
    "#当然可以通过装饰器，来写得更漂亮!!!\n",
    "\n",
    "class Duck():\n",
    "    def __init__(self, input_name):\n",
    "        self.hidden_name = input_name\n",
    "\n",
    "    @property\n",
    "    def name(self):\n",
    "        print('---使用get函数---')\n",
    "        return self.hidden_name\n",
    "\n",
    "    @name.setter\n",
    "    def name(self, input_name):\n",
    "        print('---使用set函数---')\n",
    "        self.hidden_name = input_name\n",
    "\n",
    "#定义Object为Duck类，并给定name\n",
    "fowl = Duck('Howard')\n",
    "\n",
    "print('提取名称时，则调用get函数')\n",
    "print(fowl.name)\n",
    "\n",
    "print('\\n设定名称时，则调用set函数')\n",
    "fowl.name = 'Daffy'\n",
    "print('nname被改成Daffy')\n",
    "print(fowl.name)"
   ]
  },
  {
   "cell_type": "markdown",
   "metadata": {},
   "source": [
    "# 使用名称重整保持私有性\n",
    "\n",
    "前面的用法如果被知道实际储存属性的名称为什么，也是可以对其修改 所以可以通过名称重整来把实际储存的名称改写\n",
    "\n",
    "在属性名称前面加上( __ )來重整名称，虽然不能完全的防止修改私有属性，但可以通过有效的方法降低有意或无意的修改"
   ]
  },
  {
   "cell_type": "code",
   "execution_count": 4,
   "metadata": {},
   "outputs": [
    {
     "name": "stdout",
     "output_type": "stream",
     "text": [
      "---使用get函數---\n",
      "Howard\n",
      "---使用set函數---\n",
      "---使用get函數---\n",
      "Donald\n"
     ]
    }
   ],
   "source": [
    "class Duck():\n",
    "    def __init__(self, input_name):\n",
    "        self.__name = input_name\n",
    "\n",
    "    @property\n",
    "    def name(self):\n",
    "        print('---使用get函數---')\n",
    "        return self.__name\n",
    "\n",
    "    @name.setter\n",
    "    def name(self, input_name):\n",
    "        print('---使用set函數---')\n",
    "        self.__name = input_name\n",
    "\n",
    "fowl = Duck('Howard')\n",
    "print(fowl.name)\n",
    "fowl.name = 'Donald'\n",
    "print(fowl.name)\n",
    "\n",
    "#fowl.__name        #直接修改會錯誤\n",
    "#fowl._Duck__name   #重整完的名稱"
   ]
  },
  {
   "cell_type": "markdown",
   "metadata": {},
   "source": [
    "# 方法的类型\n",
    "\n",
    "前面教的都是Object的方法，对于类本身也是可以设定属性以及方法\n",
    "分別使用 类.属性 以及 @classmethod\n",
    "\n",
    "在类的方法中，调用自己使用 cls 或是 类名称 皆可以\n",
    "\n",
    "还有一中 @staticmethod 可以设定类的函數，差异在于\n",
    "\n",
    "    @staticmethod不需使用cls参数\n",
    "    @classmethod第一个参数需为cls参数\n",
    "\n",
    "在使用上來说，若@staticmethod要调用到这个类的属性只能直接用名称來取得，而@classmethod因为有cls参数传入，所以可以通过cls来调用类函数"
   ]
  },
  {
   "cell_type": "code",
   "execution_count": 8,
   "metadata": {},
   "outputs": [
    {
     "name": "stdout",
     "output_type": "stream",
     "text": [
      "A has 3 little objects.\n",
      "A has 3 little objects.\n",
      "This CoyoteWeapon has been brought to you by Acme\n"
     ]
    }
   ],
   "source": [
    "class A():\n",
    "    count = 0           #类属性\n",
    "    def __init__(self):\n",
    "        A.count += 1    #修改类属性\n",
    "\n",
    "    def exclaim(self):\n",
    "        print(\"I'm an A!\")   \n",
    "\n",
    "    @classmethod        #类方法(methond)\n",
    "    def kids(cls):\n",
    "        print(\"A has\", cls.count, \"little objects.\")       \n",
    "\n",
    "    @classmethod        #类方法(methond)\n",
    "    def kids2(A):\n",
    "        print(\"A has\", A.count, \"little objects.\")\n",
    "\n",
    "easy_a = A()\n",
    "breezy_a = A()\n",
    "wheezy_a = A()\n",
    "A.kids()\n",
    "A.kids2()\n",
    "\n",
    "class CoyoteWeapon():\n",
    "\n",
    "    @staticmethod\n",
    "    def commercial():\n",
    "        print('This CoyoteWeapon has been brought to you by Acme')\n",
    "\n",
    "CoyoteWeapon.commercial()"
   ]
  },
  {
   "cell_type": "markdown",
   "metadata": {},
   "source": [
    "# 鸭子类型\n",
    "\n",
    "在Object导向的语言中多态(polymorphism)的使用，可以让我们更方便地调用Object的函数\n",
    "\n",
    "不用管Object本身的类型是什么，只要拥有相同的方法就可以调用到\n",
    "\n",
    "鸭子一词的由来，如果能像鸭子一样叫，像鸭子一样走路，那他就是一只鴨子。\n",
    "所以我們不用太在意是什么Object，只要他能够有一样的方法可以使用，那我们就可以安心的使用了"
   ]
  },
  {
   "cell_type": "code",
   "execution_count": 9,
   "metadata": {},
   "outputs": [
    {
     "name": "stdout",
     "output_type": "stream",
     "text": [
      "Elmer Fudd says I'm hunting wabbits.\n",
      "Brook says Babble\n"
     ]
    }
   ],
   "source": [
    "class Quote():\n",
    "    def __init__(self, person, words):\n",
    "        self.person = person\n",
    "        self.words = words\n",
    "\n",
    "    def who(self):\n",
    "        return self.person\n",
    "\n",
    "    def says(self):\n",
    "        return self.words + '.'\n",
    "\n",
    "class BabblingBrook():\n",
    "    def who(self):\n",
    "        return 'Brook'\n",
    "\n",
    "    def says(self):\n",
    "        return 'Babble'\n",
    "\n",
    "hunter = Quote('Elmer Fudd', \"I'm hunting wabbits\")\n",
    "brook = BabblingBrook()\n",
    "\n",
    "#尽管两者完全独立没有关系，但只要有相同名称的函数就可以调用到\n",
    "def who_says(obj):\n",
    "    print(obj.who(), 'says', obj.says())\n",
    "\n",
    "who_says(hunter)\n",
    "who_says(brook)"
   ]
  },
  {
   "cell_type": "markdown",
   "metadata": {},
   "source": [
    "# 特殊方法\n",
    "\n",
    "在python中，存在一些特殊方法( special method )或者称为( magic method )，\n",
    "这些方法为双下划线( __ )开头与结尾的用法，前面介绍过的( __init__ )就是一个特殊方法，他是用來对新Object初始化用\n",
    "\n",
    "假设我有一个class里面有个method可以用來判断两个字符串的小写是否相同"
   ]
  },
  {
   "cell_type": "code",
   "execution_count": 13,
   "metadata": {},
   "outputs": [
    {
     "name": "stdout",
     "output_type": "stream",
     "text": [
      "True\n",
      "False\n",
      "True\n",
      "False\n"
     ]
    }
   ],
   "source": [
    "#---------------采用一般方法写法\n",
    "class Word():\n",
    "    def __init__(self, text):\n",
    "        self.text = text\n",
    "\n",
    "    def equals(self, word2):\n",
    "        return self.text.lower() == word2.text.lower()\n",
    "\n",
    "#创建3个字符Object\n",
    "first = Word('ha')\n",
    "second = Word('HA')\n",
    "third = Word('eh')\n",
    "\n",
    "#进行比较\n",
    "print(first.equals(second))  #True\n",
    "print(first.equals(third))   #False\n",
    "\n",
    "#---------------采用特殊方法写法\n",
    "class Word():\n",
    "    def __init__(self, text):\n",
    "        self.text = text\n",
    "\n",
    "    def __eq__(self, word2):\n",
    "        return self.text.lower() == word2.text.lower()\n",
    "\n",
    "#创建3个字符对象\n",
    "first = Word('ha')\n",
    "second = Word('HA')\n",
    "third = Word('eh')\n",
    "\n",
    "#进行比较\n",
    "print(first == second)  #True\n",
    "print(first == third)   #False"
   ]
  },
  {
   "cell_type": "markdown",
   "metadata": {},
   "source": [
    "完整清单请看官方文件。 https://docs.python.org/3/reference/datamodel.html#special-method-names"
   ]
  },
  {
   "cell_type": "code",
   "execution_count": 14,
   "metadata": {},
   "outputs": [
    {
     "name": "stdout",
     "output_type": "stream",
     "text": [
      "<__main__.Word object at 0x106996208>\n",
      "20\n",
      "min:3,max:10\n",
      "min:3,max:10\n"
     ]
    }
   ],
   "source": [
    "class sqrtt():\n",
    "    def __init__(self, num):\n",
    "        self.num = num\n",
    "\n",
    "    def __mul__(self, number):\n",
    "        return self.num * number.num\n",
    "\n",
    "class minmax():\n",
    "    def __init__(self, minn, maxx):\n",
    "        self.minn = minn\n",
    "        self.maxx = maxx\n",
    "\n",
    "    def __str__(self):\n",
    "        return 'min:' + str(self.minn) + ',max:'+ str(self.maxx)\n",
    "\n",
    "#创建3个单词对象\n",
    "first = Word('ha')\n",
    "print(first)   #print必须为字符串，所以代码自行使用str()转换成字符串\n",
    "\n",
    "XD = sqrtt(4)\n",
    "XDD = sqrtt(5)\n",
    "print( XD * XDD )\n",
    "\n",
    "AM = minmax(3, 10)\n",
    "print(AM)\n",
    "print('min:' + str(AM.minn) + ',max:'+ str(AM.maxx))"
   ]
  },
  {
   "cell_type": "markdown",
   "metadata": {},
   "source": [
    "# 组合\n",
    "\n",
    "如果要新建的类有相似的类可以继承的話就可以采用继承来取得父类的所有，\n",
    "但若两个类差异太大，或是沒有关系，我们就可以采用组合來合并这些类\n",
    "\n",
    "例如，鸭子是鸟的一种，所以可以继承鸟的类，\n",
    "但是嘴巴和尾巴不是鸟的一种，而是鸭子的组成。"
   ]
  },
  {
   "cell_type": "code",
   "execution_count": 15,
   "metadata": {},
   "outputs": [
    {
     "name": "stdout",
     "output_type": "stream",
     "text": [
      "这只鸭子有一个 红色的 嘴巴，然后有 白色，15cm 长的尾巴\n"
     ]
    }
   ],
   "source": [
    "class Bill():\n",
    "    def __init__(self, description):\n",
    "        self.description = description\n",
    "\n",
    "class Tail():\n",
    "    def __init__(self, length):\n",
    "        self.length = length\n",
    "\n",
    "class Duck():\n",
    "    def __init__(self, bill, tail):\n",
    "        self.bill = bill\n",
    "        self.tail = tail\n",
    "\n",
    "    def about(self):\n",
    "        print('这只鸭子有一个', bill.description, '嘴巴，然后有', tail.length, '长的尾巴')\n",
    "\n",
    "bill = Bill('红色的')\n",
    "tail = Tail('白色，15cm')\n",
    "\n",
    "duck = Duck(bill, tail)\n",
    "duck.about()"
   ]
  },
  {
   "cell_type": "markdown",
   "metadata": {},
   "source": [
    "# 何时使用类和对象而不是模块\n",
    "\n",
    "有一些方法可以帮助你決定是把你的代码封裝到类里还是模块里。\n",
    "- 当你需要许多具有相似行为（方法），但不同状态（特性）的实例时，使用对象是最好的选择。\n",
    "- 类支持继承，但模块不支持。\n",
    "- 如果你想要保证实例的唯一性，使用模块是最好的选择。不管模块在程序中被引用多少次，始终只有一个实例被加载。\n",
    "- 如果你有一系列包含多个值的变量，并且他们能作为参数传入不同的函数，那么最好將它们封裝到类里面。举个例子，你可能会使用以大小和颜色为键的字典代表一张 彩色图片。你可以在程序中为每张图片创建不同的字典，并把它们作为参数传递给像规模（）或者变换（）之类的函数。但这么做的话，一旦你想要添加其他的键或者函数会变得非常麻烦。为了保证统一性，应该定义一个图片类，把大小和颜色作为特性，把规模（）和变换（）定义为方法。这么一来，关于一张图片的所有数据和可执行的操作都存储在了统一的位置。\n",
    "- 用最简单的方式解決问题。使用字典，列表和元組往往要比使用模块更加简单，简介且快速。而使用类则更为复杂。\n"
   ]
  },
  {
   "cell_type": "markdown",
   "metadata": {},
   "source": [
    "命名Tuple(named tuple)\n",
    "\n",
    "可以用來创造可以用名称访问的Tuple子类\n",
    "\n",
    "跟Tuple一样，不可被改变，但是可以透过替换來产生新的命名Tuple"
   ]
  },
  {
   "cell_type": "code",
   "execution_count": 16,
   "metadata": {},
   "outputs": [
    {
     "name": "stdout",
     "output_type": "stream",
     "text": [
      "Duck(bill='wide orange', tail='long')\n",
      "wide orange\n",
      "long\n",
      "Duck(bill='wide orange', tail='long')\n",
      "Duck(bill='crushing', tail='magnificent')\n"
     ]
    }
   ],
   "source": [
    "from collections import namedtuple #引入函数库\n",
    "\n",
    "Duck = namedtuple('Duck', 'bill tail') #定义为命名Tuple，並且有bill和tail两种名称\n",
    "duck = Duck('wide orange', 'long')     #赋值\n",
    "\n",
    "print(duck)\n",
    "print(duck.bill)\n",
    "print(duck.tail)\n",
    "\n",
    "parts = {'bill': 'wide orange', 'tail': 'long'}  #使用dictionary赋值\n",
    "duck2 = Duck(**parts)\n",
    "print(duck2)\n",
    "\n",
    "duck3 = duck2._replace(tail='magnificent', bill='crushing')  #替换內容\n",
    "print(duck3)"
   ]
  }
 ],
 "metadata": {
  "kernelspec": {
   "display_name": "Python 3",
   "language": "python",
   "name": "python3"
  },
  "language_info": {
   "codemirror_mode": {
    "name": "ipython",
    "version": 3
   },
   "file_extension": ".py",
   "mimetype": "text/x-python",
   "name": "python",
   "nbconvert_exporter": "python",
   "pygments_lexer": "ipython3",
   "version": "3.6.5"
  }
 },
 "nbformat": 4,
 "nbformat_minor": 2
}
