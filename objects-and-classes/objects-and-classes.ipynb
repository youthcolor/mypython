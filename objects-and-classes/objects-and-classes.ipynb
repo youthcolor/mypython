{
 "cells": [
  {
   "cell_type": "markdown",
   "metadata": {},
   "source": [
    "# 什么是对象\n",
    "python裡面所有的东西都是对象(objects)，连同一个整数也是一种对象，python的语法设计可以巧妙的隐藏诸多细节\n",
    "\n",
    "本章节将会介绍自定义新的对象以及修改现有的对象。\n",
    "\n",
    "对象包含属性(attribute)与方法(methods)，\n",
    "例如整数5和7都是整数object，都包含了基本的+-*/方法，\n",
    "'cat' 和 'duck'都是字符串Object，都包含了 capitalize() 和 replace() 两种方法\n",
    "\n",
    "所以当你要创建一个新的object时，就必须先定义一个新的类，用它来清楚规范其类别可以创造出来的对象有什么样的属性(attribute)与方法(methods)\n",
    "\n",
    "Object像名词，方法就像个动词。Object代表一个独立的事物，方法用来定义它如何与其他Object相互作用。\n",
    "与模块不同的是，你可以同时创建多个同类别的Object，他们之间的属性值可能各有不同，对象像是个结构，包含着数据。"
   ]
  },
  {
   "cell_type": "markdown",
   "metadata": {},
   "source": [
    "# 使用class定义类\n",
    "我们可以通过class来定义自己的类，就可以创造出新的Object"
   ]
  },
  {
   "cell_type": "code",
   "execution_count": 1,
   "metadata": {},
   "outputs": [
    {
     "name": "stdout",
     "output_type": "stream",
     "text": [
      "Elmer Fudd\n",
      "QQ@WW.tw\n",
      "I am Elmer Fudd!!!\n",
      "Husky\n",
      "ZDD@WW.tw\n"
     ]
    }
   ],
   "source": [
    "# 自定义一个Person\n",
    "# __init__为定义属性部分\n",
    "# self为object自己\n",
    "\n",
    "class Person():\n",
    "    def __init__(self, name, email):\n",
    "        self.name = name\n",
    "        self.email = email\n",
    "    \n",
    "    def XDD(self, tem):\n",
    "        return 'I am ' + self.name + tem\n",
    "    \n",
    "hunter = Person('Elmer Fudd', 'QQ@WW.tw')\n",
    "\n",
    "Husky = Person('Husky', 'ZDD@WW.tw')\n",
    "\n",
    "print(hunter.name)\n",
    "print(hunter.email)\n",
    "\n",
    "print(hunter.XDD('!!!'))\n",
    "\n",
    "print(Husky.name)\n",
    "print(Husky.email)"
   ]
  },
  {
   "cell_type": "markdown",
   "metadata": {},
   "source": [
    "# 继承\n",
    "\n",
    "在编写类时，如果发现已经有前人开发过，那就可以不用整段赋值，可以采用继承的方法取得他的属性与方法。 并且补充自己会用的功能，一方面可以减少去改已有的类的辛苦，也可以省去复制粘贴的功夫。"
   ]
  },
  {
   "cell_type": "code",
   "execution_count": 2,
   "metadata": {},
   "outputs": [
    {
     "name": "stdout",
     "output_type": "stream",
     "text": [
      "add: 4\n",
      "add: 6\n"
     ]
    }
   ],
   "source": [
    "class math():\n",
    "    def add(self, a, b):\n",
    "        print(\"add:\", a + b)\n",
    "\n",
    "class mean(math):\n",
    "    pass\n",
    "\n",
    "ab = mean()\n",
    "ab.add(1, 3)\n",
    "\n",
    "ac = math()\n",
    "ac.add(1,5)"
   ]
  },
  {
   "cell_type": "markdown",
   "metadata": {},
   "source": [
    "# 覆盖方法\n",
    "\n",
    "当然我们也可以覆盖掉原有的方法"
   ]
  },
  {
   "cell_type": "code",
   "execution_count": 3,
   "metadata": {},
   "outputs": [
    {
     "name": "stdout",
     "output_type": "stream",
     "text": [
      "add: 7\n"
     ]
    }
   ],
   "source": [
    "class math():\n",
    "    def add(self, a, b):\n",
    "        print(\"add:\", a + b)\n",
    "\n",
    "class mean(math):\n",
    "    def add(self, a, b):\n",
    "        print(\"add:\", a + b + b)\n",
    "\n",
    "ab = mean()\n",
    "ab.add(1, 3)"
   ]
  },
  {
   "cell_type": "markdown",
   "metadata": {},
   "source": [
    "# 添加新方法\n",
    "\n",
    "前面的都是复制与修改接着我们也可以在新的类中加入新的方法"
   ]
  },
  {
   "cell_type": "code",
   "execution_count": 4,
   "metadata": {},
   "outputs": [
    {
     "name": "stdout",
     "output_type": "stream",
     "text": [
      "add: 4\n",
      "add: -2\n",
      "add: 6\n"
     ]
    }
   ],
   "source": [
    "class math():\n",
    "    def add(self, a, b):\n",
    "        print(\"add:\", a + b)\n",
    "\n",
    "class mean(math):\n",
    "    def less(self, a, b):\n",
    "        print(\"add:\", a - b)\n",
    "\n",
    "ab = mean()\n",
    "ab.add(1, 3)\n",
    "ab.less(1, 3)\n",
    "\n",
    "ac = math()\n",
    "ac.add(1, 5)"
   ]
  },
  {
   "cell_type": "markdown",
   "metadata": {},
   "source": [
    "# 使用super得到父类的帮助\n",
    "\n",
    "那如果我们要修改属性部分( __int__ )，除了直接重写一个盖掉以外还有super()方法可以用來扩充既有的屬性，这样才有达到继承的目的"
   ]
  },
  {
   "cell_type": "code",
   "execution_count": 5,
   "metadata": {},
   "outputs": [
    {
     "name": "stdout",
     "output_type": "stream",
     "text": [
      "Elmer Fudd\n",
      "QQ@CC.tw\n",
      "=============\n",
      "Elmer Fudd\n",
      "QQ@CC.tw\n",
      "2016/05/07\n"
     ]
    }
   ],
   "source": [
    "class Person():\n",
    "    def __init__(self, name, email):\n",
    "        self.name = name\n",
    "        self.email = email\n",
    "\n",
    "class Person_day(Person):\n",
    "    def __init__(self, name, email, birthday):\n",
    "        super().__init__(name, email)\n",
    "        self.birthday = birthday\n",
    "\n",
    "hunter = Person('Elmer Fudd', 'QQ@CC.tw')\n",
    "husky = Person_day('Elmer Fudd', 'QQ@CC.tw', '2016/05/07')\n",
    "\n",
    "print(hunter.name)\n",
    "print(hunter.email)\n",
    "print('=============')\n",
    "print(husky.name)\n",
    "print(husky.email)\n",
    "print(husky.birthday)"
   ]
  },
  {
   "cell_type": "markdown",
   "metadata": {},
   "source": [
    "# self\n",
    "\n",
    "在定义属性時常常会看到self，self指的就是被创建出來的Object本身。\n",
    "所以在__int__(self, name)的参数部分，实际上不需要传入self参数。"
   ]
  },
  {
   "cell_type": "code",
   "execution_count": 6,
   "metadata": {},
   "outputs": [],
   "source": [
    "class Person():\n",
    "    def __init__(self, name, email):\n",
    "        self.name = name\n",
    "        self.email = email\n",
    "\n",
    "XDD = Person('QQ', 'QQ@gmail.com')  #不需要传入self参数"
   ]
  },
  {
   "cell_type": "markdown",
   "metadata": {},
   "source": [
    "# 使用属性对特性进行访问和设置\n",
    "\n",
    "在其他語言中，可以设置getter 和 setter來确保私有属性的读写，但是在python一切都是公开的，\n",
    "可以通过property()來达到python风格的写法，即可將属性值藏起來，不用通过调用每个getter()和setter()來达到改变私有变量\n",
    "\n",
    "若沒有给定setter函数，则无法通过property()來改变属性值，当然前提是在別人不知道实际存储变量的属性名称是什么"
   ]
  },
  {
   "cell_type": "code",
   "execution_count": 7,
   "metadata": {},
   "outputs": [
    {
     "name": "stdout",
     "output_type": "stream",
     "text": [
      "提取名称时，则调用get函数\n",
      "---使用get函数---\n",
      "Howard!!\n",
      "\n",
      "设定名称时，则调用set函数\n",
      "---使用set函数---\n",
      "\n",
      "name被改成Daffy\n",
      "---使用get函数---\n",
      "Daffy??!!\n",
      "\n",
      "当然也可以通过原始的set_name()与get_name()进行修改私有属性\n",
      "---使用get函数---\n",
      "Daffy??!!\n",
      "---使用set函数---\n",
      "---使用get函数---\n",
      "Daffyyyy??!!\n"
     ]
    }
   ],
   "source": [
    "class Duck():\n",
    "    def __init__(self, input_name):\n",
    "        self.hidden_name = input_name\n",
    "\n",
    "    #取的 name 的函数\n",
    "    def get_name(self):\n",
    "        print('---使用get函数---')\n",
    "        return self.hidden_name + '!!'\n",
    "\n",
    "    #设定 name 的函数\n",
    "    def set_name(self, input_name):\n",
    "        print('---使用set函数---')\n",
    "        self.hidden_name = input_name + '??'\n",
    "\n",
    "    #使用property(get,set)來包裝，让使用上更方便\n",
    "    name = property(get_name, set_name)\n",
    "\n",
    "#定义Object为Duck类，并给定name，从头到尾都沒有直接抄作hidden_name來改变属性值\n",
    "fowl = Duck('Howard')\n",
    "print('提取名称时，则调用get函数')\n",
    "print(fowl.name)\n",
    "\n",
    "print('\\n设定名称时，则调用set函数')\n",
    "fowl.name = 'Daffy'\n",
    "print('\\nname被改成Daffy')\n",
    "print(fowl.name)\n",
    "\n",
    "print('\\n当然也可以通过原始的set_name()与get_name()进行修改私有属性')\n",
    "print(fowl.get_name())\n",
    "fowl.set_name('Daffyyyy')\n",
    "print(fowl.get_name())"
   ]
  },
  {
   "cell_type": "code",
   "execution_count": 8,
   "metadata": {
    "scrolled": true
   },
   "outputs": [
    {
     "name": "stdout",
     "output_type": "stream",
     "text": [
      "提取名称时，则调用get函数\n",
      "---使用get函数---\n",
      "Howard\n",
      "\n",
      "设定名称时，则调用set函数\n",
      "---使用set函数---\n",
      "nname被改成Daffy\n",
      "---使用get函数---\n",
      "Daffy\n"
     ]
    }
   ],
   "source": [
    "#当然可以通过装饰器，来写得更漂亮!!!\n",
    "\n",
    "class Duck():\n",
    "    def __init__(self, input_name):\n",
    "        self.hidden_name = input_name\n",
    "\n",
    "    @property\n",
    "    def name(self):\n",
    "        print('---使用get函数---')\n",
    "        return self.hidden_name\n",
    "\n",
    "    @name.setter\n",
    "    def name(self, input_name):\n",
    "        print('---使用set函数---')\n",
    "        self.hidden_name = input_name\n",
    "\n",
    "#定义Object为Duck类，并给定name\n",
    "fowl = Duck('Howard')\n",
    "\n",
    "print('提取名称时，则调用get函数')\n",
    "print(fowl.name)\n",
    "\n",
    "print('\\n设定名称时，则调用set函数')\n",
    "fowl.name = 'Daffy'\n",
    "print('nname被改成Daffy')\n",
    "print(fowl.name)"
   ]
  },
  {
   "cell_type": "code",
   "execution_count": null,
   "metadata": {},
   "outputs": [],
   "source": []
  }
 ],
 "metadata": {
  "kernelspec": {
   "display_name": "Python 3",
   "language": "python",
   "name": "python3"
  },
  "language_info": {
   "codemirror_mode": {
    "name": "ipython",
    "version": 3
   },
   "file_extension": ".py",
   "mimetype": "text/x-python",
   "name": "python",
   "nbconvert_exporter": "python",
   "pygments_lexer": "ipython3",
   "version": "3.6.4"
  }
 },
 "nbformat": 4,
 "nbformat_minor": 2
}
